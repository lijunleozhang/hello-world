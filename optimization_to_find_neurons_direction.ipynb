{
 "cells": [
  {
   "cell_type": "code",
   "execution_count": 1,
   "metadata": {},
   "outputs": [],
   "source": [
    "%matplotlib inline\n",
    "import matplotlib.pyplot as plt\n",
    "import tensorflow as tf\n",
    "import numpy as np\n",
    "from sklearn.metrics import confusion_matrix\n",
    "import math\n",
    "from mnist import MNIST\n",
    "data = MNIST(data_dir=\"data/MNIST/\")"
   ]
  },
  {
   "cell_type": "code",
   "execution_count": 2,
   "metadata": {},
   "outputs": [],
   "source": [
    "# The number of pixels in each dimension of an image.\n",
    "img_size = data.img_size\n",
    "\n",
    "# The images are stored in one-dimensional arrays of this length.\n",
    "img_size_flat = data.img_size_flat\n",
    "\n",
    "# Tuple with height and width of images used to reshape arrays.\n",
    "img_shape = data.img_shape\n",
    "\n",
    "# Number of classes, one class for each of 10 digits.\n",
    "num_classes = data.num_classes\n",
    "\n",
    "# Number of colour channels for the images: 1 channel for gray-scale.\n",
    "num_channels = data.num_channels"
   ]
  },
  {
   "cell_type": "code",
   "execution_count": 3,
   "metadata": {},
   "outputs": [
    {
     "name": "stderr",
     "output_type": "stream",
     "text": [
      "WARNING: Logging before flag parsing goes to stderr.\n",
      "W0408 20:29:33.084733 140337330829120 deprecation.py:323] From <ipython-input-3-0462c040b7d1>:8: conv2d (from tensorflow.python.layers.convolutional) is deprecated and will be removed in a future version.\n",
      "Instructions for updating:\n",
      "Use `tf.keras.layers.Conv2D` instead.\n",
      "W0408 20:29:33.088807 140337330829120 deprecation.py:506] From /home/ramanlab/anaconda3/envs/caiman/lib/python3.6/site-packages/tensorflow/python/ops/init_ops.py:1251: calling VarianceScaling.__init__ (from tensorflow.python.ops.init_ops) with dtype is deprecated and will be removed in a future version.\n",
      "Instructions for updating:\n",
      "Call initializer instance with the dtype argument instead of passing it to the constructor\n",
      "W0408 20:29:33.232897 140337330829120 deprecation.py:323] From <ipython-input-3-0462c040b7d1>:9: max_pooling2d (from tensorflow.python.layers.pooling) is deprecated and will be removed in a future version.\n",
      "Instructions for updating:\n",
      "Use keras.layers.MaxPooling2D instead.\n",
      "W0408 20:29:34.140691 140337330829120 lazy_loader.py:50] \n",
      "The TensorFlow contrib module will not be included in TensorFlow 2.0.\n",
      "For more information, please see:\n",
      "  * https://github.com/tensorflow/community/blob/master/rfcs/20180907-contrib-sunset.md\n",
      "  * https://github.com/tensorflow/addons\n",
      "  * https://github.com/tensorflow/io (for I/O related ops)\n",
      "If you depend on functionality not listed there, please file an issue.\n",
      "\n",
      "W0408 20:29:34.141251 140337330829120 deprecation.py:323] From /home/ramanlab/anaconda3/envs/caiman/lib/python3.6/site-packages/tensorflow/contrib/layers/python/layers/layers.py:1634: flatten (from tensorflow.python.layers.core) is deprecated and will be removed in a future version.\n",
      "Instructions for updating:\n",
      "Use keras.layers.flatten instead.\n",
      "W0408 20:29:34.288348 140337330829120 deprecation.py:323] From <ipython-input-3-0462c040b7d1>:19: dense (from tensorflow.python.layers.core) is deprecated and will be removed in a future version.\n",
      "Instructions for updating:\n",
      "Use keras.layers.dense instead.\n"
     ]
    }
   ],
   "source": [
    "# tensorflow graph\n",
    "x = tf.placeholder(tf.float32, shape=[None, img_size_flat], name='x')\n",
    "x_image = tf.reshape(x, [-1, img_size, img_size, num_channels])\n",
    "y_true = tf.placeholder(tf.float32, shape=[None, num_classes], name='y_true')\n",
    "y_true_cls = tf.argmax(y_true, axis=1)\n",
    "net = x_image\n",
    "net = tf.layers.conv2d(inputs=net, name='layer_conv1', padding='same',\n",
    "                       filters=16, kernel_size=5, activation=tf.nn.relu)\n",
    "net = tf.layers.max_pooling2d(inputs=net, pool_size=2, strides=2)\n",
    "net = tf.layers.conv2d(inputs=net, name='layer_conv2', padding='same',\n",
    "                       filters=36, kernel_size=5, activation=tf.nn.relu)\n",
    "\n",
    "temp=tf.reshape(net,[-1,14*14,36])\n",
    "Gram=tf.matmul(tf.transpose(temp,[0,2,1]),temp)\n",
    "\n",
    "net = tf.layers.max_pooling2d(inputs=net, pool_size=2, strides=2)\n",
    "net = tf.contrib.layers.flatten(net)\n",
    "net = tf.layers.dense(inputs=net, name='layer_fc1',\n",
    "                      units=128, activation=tf.nn.relu)\n",
    "net = tf.layers.dense(inputs=net, name='layer_fc_out',\n",
    "                      units=num_classes, activation=None)\n",
    "logits = net\n",
    "y_pred = tf.nn.softmax(logits=logits)\n",
    "y_pred_cls = tf.argmax(y_pred, axis=1)\n",
    "cross_entropy = tf.nn.softmax_cross_entropy_with_logits_v2(labels=y_true, logits=logits)\n",
    "loss = tf.reduce_mean(cross_entropy)\n",
    "optimizer = tf.train.AdamOptimizer(learning_rate=1e-4).minimize(loss)\n",
    "correct_prediction = tf.equal(y_pred_cls, y_true_cls)\n",
    "accuracy = tf.reduce_mean(tf.cast(correct_prediction, tf.float32))"
   ]
  },
  {
   "cell_type": "code",
   "execution_count": 4,
   "metadata": {},
   "outputs": [],
   "source": [
    "session = tf.Session()\n",
    "session.run(tf.global_variables_initializer())\n"
   ]
  },
  {
   "cell_type": "code",
   "execution_count": 5,
   "metadata": {},
   "outputs": [
    {
     "data": {
      "text/plain": [
       "dtype('float64')"
      ]
     },
     "execution_count": 5,
     "metadata": {},
     "output_type": "execute_result"
    }
   ],
   "source": [
    "x_batch, y_true_batch, _ = data.random_batch(batch_size=64)\n",
    "x_batch.dtype"
   ]
  },
  {
   "cell_type": "code",
   "execution_count": 6,
   "metadata": {},
   "outputs": [],
   "source": [
    "train_batch_size = 64\n",
    "total_iterations = 0\n",
    "\n",
    "def optimize(num_iterations):\n",
    "    # Ensure we update the global variable rather than a local copy.\n",
    "    global total_iterations\n",
    "\n",
    "    for i in range(total_iterations,\n",
    "                   total_iterations + num_iterations):\n",
    "\n",
    "        # Get a batch of training examples.\n",
    "        # x_batch now holds a batch of images and\n",
    "        # y_true_batch are the true labels for those images.\n",
    "        x_batch, y_true_batch, _ = data.random_batch(batch_size=train_batch_size)\n",
    "\n",
    "        # Put the batch into a dict with the proper names\n",
    "        # for placeholder variables in the TensorFlow graph.\n",
    "        feed_dict_train = {x: x_batch,\n",
    "                           y_true: y_true_batch}\n",
    "\n",
    "        # Run the optimizer using this batch of training data.\n",
    "        # TensorFlow assigns the variables in feed_dict_train\n",
    "        # to the placeholder variables and then runs the optimizer.\n",
    "        session.run(optimizer, feed_dict=feed_dict_train)\n",
    "\n",
    "        # Print status every 100 iterations.\n",
    "        if i % 100 == 0:\n",
    "            # Calculate the accuracy on the training-set.\n",
    "            acc = session.run(accuracy, feed_dict=feed_dict_train)\n",
    "\n",
    "            # Message for printing.\n",
    "            msg = \"Optimization Iteration: {0:>6}, Training Accuracy: {1:>6.1%}\"\n",
    "\n",
    "            # Print it.\n",
    "            print(msg.format(i + 1, acc))\n",
    "\n",
    "    # Update the total number of iterations performed.\n",
    "    total_iterations += num_iterations\n",
    "    \n",
    "def style_matrix(x_batch):\n",
    "#     x_mean=data.x_train[0,:]\n",
    "    feed_dict_train = {x: x_batch}\n",
    "    gram = session.run(Gram, feed_dict=feed_dict_train)\n",
    "    return gram\n",
    "\n",
    "# x_batch, y_true_batch, _ = data.random_batch(batch_size=1)\n",
    "# answer=style_matrix(x_batch)"
   ]
  },
  {
   "cell_type": "code",
   "execution_count": 7,
   "metadata": {},
   "outputs": [
    {
     "name": "stdout",
     "output_type": "stream",
     "text": [
      "Optimization Iteration:      1, Training Accuracy:  14.1%\n",
      "Optimization Iteration:    101, Training Accuracy:  85.9%\n",
      "Optimization Iteration:    201, Training Accuracy:  85.9%\n",
      "Optimization Iteration:    301, Training Accuracy:  92.2%\n",
      "Optimization Iteration:    401, Training Accuracy:  95.3%\n",
      "Optimization Iteration:    501, Training Accuracy:  96.9%\n",
      "Optimization Iteration:    601, Training Accuracy:  95.3%\n",
      "Optimization Iteration:    701, Training Accuracy:  93.8%\n",
      "Optimization Iteration:    801, Training Accuracy:  96.9%\n",
      "Optimization Iteration:    901, Training Accuracy:  98.4%\n",
      "Optimization Iteration:   1001, Training Accuracy:  92.2%\n",
      "Optimization Iteration:   1101, Training Accuracy:  96.9%\n",
      "Optimization Iteration:   1201, Training Accuracy:  93.8%\n",
      "Optimization Iteration:   1301, Training Accuracy:  93.8%\n",
      "Optimization Iteration:   1401, Training Accuracy:  98.4%\n",
      "Optimization Iteration:   1501, Training Accuracy: 100.0%\n",
      "Optimization Iteration:   1601, Training Accuracy:  98.4%\n",
      "Optimization Iteration:   1701, Training Accuracy:  95.3%\n",
      "Optimization Iteration:   1801, Training Accuracy:  93.8%\n",
      "Optimization Iteration:   1901, Training Accuracy: 100.0%\n",
      "Optimization Iteration:   2001, Training Accuracy:  96.9%\n",
      "Optimization Iteration:   2101, Training Accuracy:  96.9%\n",
      "Optimization Iteration:   2201, Training Accuracy:  98.4%\n",
      "Optimization Iteration:   2301, Training Accuracy:  96.9%\n",
      "Optimization Iteration:   2401, Training Accuracy: 100.0%\n",
      "Optimization Iteration:   2501, Training Accuracy:  96.9%\n",
      "Optimization Iteration:   2601, Training Accuracy:  98.4%\n",
      "Optimization Iteration:   2701, Training Accuracy: 100.0%\n",
      "Optimization Iteration:   2801, Training Accuracy:  98.4%\n",
      "Optimization Iteration:   2901, Training Accuracy:  96.9%\n",
      "Optimization Iteration:   3001, Training Accuracy:  96.9%\n",
      "Optimization Iteration:   3101, Training Accuracy:  96.9%\n",
      "Optimization Iteration:   3201, Training Accuracy:  95.3%\n",
      "Optimization Iteration:   3301, Training Accuracy:  98.4%\n",
      "Optimization Iteration:   3401, Training Accuracy: 100.0%\n",
      "Optimization Iteration:   3501, Training Accuracy:  98.4%\n",
      "Optimization Iteration:   3601, Training Accuracy:  96.9%\n",
      "Optimization Iteration:   3701, Training Accuracy:  95.3%\n",
      "Optimization Iteration:   3801, Training Accuracy: 100.0%\n",
      "Optimization Iteration:   3901, Training Accuracy:  98.4%\n",
      "Optimization Iteration:   4001, Training Accuracy: 100.0%\n",
      "Optimization Iteration:   4101, Training Accuracy: 100.0%\n",
      "Optimization Iteration:   4201, Training Accuracy:  96.9%\n",
      "Optimization Iteration:   4301, Training Accuracy: 100.0%\n",
      "Optimization Iteration:   4401, Training Accuracy: 100.0%\n",
      "Optimization Iteration:   4501, Training Accuracy:  98.4%\n",
      "Optimization Iteration:   4601, Training Accuracy: 100.0%\n",
      "Optimization Iteration:   4701, Training Accuracy:  96.9%\n",
      "Optimization Iteration:   4801, Training Accuracy: 100.0%\n",
      "Optimization Iteration:   4901, Training Accuracy:  98.4%\n",
      "Optimization Iteration:   5001, Training Accuracy:  95.3%\n",
      "Optimization Iteration:   5101, Training Accuracy:  98.4%\n",
      "Optimization Iteration:   5201, Training Accuracy: 100.0%\n",
      "Optimization Iteration:   5301, Training Accuracy:  98.4%\n",
      "Optimization Iteration:   5401, Training Accuracy: 100.0%\n",
      "Optimization Iteration:   5501, Training Accuracy:  93.8%\n",
      "Optimization Iteration:   5601, Training Accuracy:  98.4%\n",
      "Optimization Iteration:   5701, Training Accuracy: 100.0%\n",
      "Optimization Iteration:   5801, Training Accuracy:  96.9%\n",
      "Optimization Iteration:   5901, Training Accuracy: 100.0%\n",
      "Optimization Iteration:   6001, Training Accuracy:  96.9%\n",
      "Optimization Iteration:   6101, Training Accuracy: 100.0%\n",
      "Optimization Iteration:   6201, Training Accuracy: 100.0%\n",
      "Optimization Iteration:   6301, Training Accuracy:  98.4%\n",
      "Optimization Iteration:   6401, Training Accuracy:  98.4%\n",
      "Optimization Iteration:   6501, Training Accuracy: 100.0%\n",
      "Optimization Iteration:   6601, Training Accuracy: 100.0%\n",
      "Optimization Iteration:   6701, Training Accuracy: 100.0%\n",
      "Optimization Iteration:   6801, Training Accuracy:  98.4%\n",
      "Optimization Iteration:   6901, Training Accuracy: 100.0%\n",
      "Optimization Iteration:   7001, Training Accuracy:  96.9%\n",
      "Optimization Iteration:   7101, Training Accuracy:  98.4%\n",
      "Optimization Iteration:   7201, Training Accuracy:  98.4%\n",
      "Optimization Iteration:   7301, Training Accuracy: 100.0%\n",
      "Optimization Iteration:   7401, Training Accuracy: 100.0%\n",
      "Optimization Iteration:   7501, Training Accuracy:  95.3%\n",
      "Optimization Iteration:   7601, Training Accuracy:  98.4%\n",
      "Optimization Iteration:   7701, Training Accuracy:  98.4%\n",
      "Optimization Iteration:   7801, Training Accuracy: 100.0%\n",
      "Optimization Iteration:   7901, Training Accuracy:  98.4%\n",
      "Optimization Iteration:   8001, Training Accuracy: 100.0%\n",
      "Optimization Iteration:   8101, Training Accuracy:  96.9%\n",
      "Optimization Iteration:   8201, Training Accuracy: 100.0%\n",
      "Optimization Iteration:   8301, Training Accuracy:  96.9%\n",
      "Optimization Iteration:   8401, Training Accuracy:  98.4%\n",
      "Optimization Iteration:   8501, Training Accuracy:  98.4%\n",
      "Optimization Iteration:   8601, Training Accuracy: 100.0%\n",
      "Optimization Iteration:   8701, Training Accuracy: 100.0%\n",
      "Optimization Iteration:   8801, Training Accuracy: 100.0%\n",
      "Optimization Iteration:   8901, Training Accuracy: 100.0%\n",
      "Optimization Iteration:   9001, Training Accuracy:  98.4%\n",
      "Optimization Iteration:   9101, Training Accuracy: 100.0%\n",
      "Optimization Iteration:   9201, Training Accuracy: 100.0%\n",
      "Optimization Iteration:   9301, Training Accuracy: 100.0%\n",
      "Optimization Iteration:   9401, Training Accuracy: 100.0%\n",
      "Optimization Iteration:   9501, Training Accuracy: 100.0%\n",
      "Optimization Iteration:   9601, Training Accuracy:  98.4%\n",
      "Optimization Iteration:   9701, Training Accuracy: 100.0%\n",
      "Optimization Iteration:   9801, Training Accuracy: 100.0%\n",
      "Optimization Iteration:   9901, Training Accuracy:  98.4%\n",
      "CPU times: user 24.1 s, sys: 2.89 s, total: 27 s\n",
      "Wall time: 22.3 s\n"
     ]
    }
   ],
   "source": [
    "%%time\n",
    "optimize(num_iterations=10000)\n",
    "\n",
    "\n",
    "# conv_names.append('layer_fc1/BiasAdd')"
   ]
  },
  {
   "cell_type": "code",
   "execution_count": 8,
   "metadata": {},
   "outputs": [],
   "source": [
    "def get_conv_layer_names():\n",
    "    graph = tf.get_default_graph()\n",
    "    \n",
    "    # Create a list of names for the operations in the graph\n",
    "    # for the Inception model where the operator-type is 'Conv2D'.\n",
    "    names = [op.name for op in graph.get_operations() if op.type=='Conv2D']\n",
    "\n",
    "    return names\n",
    "conv_names = get_conv_layer_names()"
   ]
  },
  {
   "cell_type": "code",
   "execution_count": 9,
   "metadata": {},
   "outputs": [],
   "source": [
    "# Computation graph for optimizing input image\n",
    "def optimize_image(conv_id=None, feature=0,\n",
    "                   num_iterations=30, show_progress=True, weight=None):\n",
    "    \"\"\"\n",
    "    Find an image that maximizes the feature\n",
    "    given by the conv_id and feature number.\n",
    "\n",
    "    Parameters:\n",
    "    conv_id: Integer identifying the convolutional layer to\n",
    "             maximize. It is an index into conv_names.\n",
    "             If None then use the last fully-connected layer\n",
    "             before the softmax output.\n",
    "    feature: Index into the layer for the feature to maximize.\n",
    "    num_iteration: Number of optimization iterations to perform.\n",
    "    show_progress: Boolean whether to show the progress.\n",
    "    \"\"\"\n",
    "\n",
    "    # Create the loss-function that must be maximized.\n",
    "    if conv_id is None:\n",
    "        loss = tf.reduce_mean(logits[:, feature])\n",
    "    else:\n",
    "        conv_name = conv_names[conv_id]\n",
    "        \n",
    "        graph = tf.get_default_graph()\n",
    "        weights = tf.placeholder(tf.float32, shape=[36,1], name='weights')\n",
    "        tensor = graph.get_tensor_by_name(conv_name + \":0\")\n",
    "\n",
    "#         loss = tf.reduce_mean(tensor[:,:,:,feature])\n",
    "        loss = tf.reduce_mean(tf.matmul(tensor[:,:,:,:],weights))\n",
    "#         loss = tf.reduce_mean(tensor[:,feature])\n",
    "\n",
    "    gradient = tf.gradients(loss, x_image)\n",
    "\n",
    "    image = 0.1 * np.random.uniform(size=img_shape) + 0.45\n",
    "\n",
    "    for i in range(num_iterations):\n",
    "        # Reshape the array so it is a 4-rank tensor.\n",
    "        img_reshaped = image[np.newaxis,:,:,np.newaxis]\n",
    "\n",
    "        feed_dict = {x_image: img_reshaped,weights:weight}\n",
    "\n",
    "        pred, grad, loss_value = session.run([y_pred, gradient, loss],\n",
    "                                             feed_dict=feed_dict)\n",
    "        \n",
    "        # Squeeze the dimensionality for the gradient-array.\n",
    "        grad = np.array(grad).squeeze()\n",
    "\n",
    "        step_size = 1.0 / (grad.std() + 1e-8)\n",
    "\n",
    "        image += step_size * grad\n",
    "\n",
    "        # Ensure all pixel-values in the image are between 0 and 1.\n",
    "        image = np.clip(image, 0.0, 1.0)\n",
    "\n",
    "        if show_progress:\n",
    "            print(\"Iteration:\", i)\n",
    "\n",
    "            # Convert the predicted class-scores to a one-dim array.\n",
    "            pred = np.squeeze(pred)\n",
    "\n",
    "            # The predicted class for the Inception model.\n",
    "            pred_cls = np.argmax(pred)\n",
    "\n",
    "            # The score (probability) for the predicted class.\n",
    "            cls_score = pred[pred_cls]\n",
    "\n",
    "            # Print the predicted score etc.\n",
    "            msg = \"Predicted class: {0}, score: {1:>7.2%}\"\n",
    "            print(msg.format(pred_cls, cls_score))\n",
    "\n",
    "            # Print statistics for the gradient.\n",
    "            msg = \"Gradient min: {0:>9.6f}, max: {1:>9.6f}, stepsize: {2:>9.2f}\"\n",
    "            print(msg.format(grad.min(), grad.max(), step_size))\n",
    "\n",
    "            # Print the loss-value.\n",
    "            print(\"Loss:\", loss_value)\n",
    "\n",
    "            # Newline.\n",
    "            print()\n",
    "\n",
    "    return image.squeeze()"
   ]
  },
  {
   "cell_type": "code",
   "execution_count": 10,
   "metadata": {},
   "outputs": [
    {
     "name": "stdout",
     "output_type": "stream",
     "text": [
      "Iteration: 0\n",
      "Predicted class: 3, score:  36.93%\n",
      "Gradient min: -0.007003, max:  0.003687, stepsize:    548.36\n",
      "Loss: -0.41120493\n",
      "\n",
      "Iteration: 1\n",
      "Predicted class: 5, score:  99.78%\n",
      "Gradient min: -0.007175, max:  0.004852, stepsize:    468.45\n",
      "Loss: 0.12405887\n",
      "\n",
      "Iteration: 2\n",
      "Predicted class: 5, score: 100.00%\n",
      "Gradient min: -0.006891, max:  0.005562, stepsize:    430.85\n",
      "Loss: 0.25263044\n",
      "\n",
      "Iteration: 3\n",
      "Predicted class: 5, score:  99.99%\n",
      "Gradient min: -0.006645, max:  0.006234, stepsize:    425.03\n",
      "Loss: 0.3106337\n",
      "\n",
      "Iteration: 4\n",
      "Predicted class: 5, score:  99.89%\n",
      "Gradient min: -0.007097, max:  0.006037, stepsize:    423.31\n",
      "Loss: 0.32224378\n",
      "\n",
      "Iteration: 5\n",
      "Predicted class: 5, score:  99.90%\n",
      "Gradient min: -0.007190, max:  0.006350, stepsize:    421.16\n",
      "Loss: 0.32512662\n",
      "\n",
      "Iteration: 6\n",
      "Predicted class: 5, score:  99.78%\n",
      "Gradient min: -0.006719, max:  0.005821, stepsize:    424.75\n",
      "Loss: 0.32954\n",
      "\n",
      "Iteration: 7\n",
      "Predicted class: 5, score:  99.81%\n",
      "Gradient min: -0.007166, max:  0.005666, stepsize:    421.69\n",
      "Loss: 0.32900357\n",
      "\n",
      "Iteration: 8\n",
      "Predicted class: 5, score:  99.51%\n",
      "Gradient min: -0.007007, max:  0.005460, stepsize:    419.35\n",
      "Loss: 0.3265367\n",
      "\n",
      "Iteration: 9\n",
      "Predicted class: 5, score:  99.82%\n",
      "Gradient min: -0.007090, max:  0.005721, stepsize:    424.54\n",
      "Loss: 0.3290845\n",
      "\n",
      "Iteration: 10\n",
      "Predicted class: 5, score:  99.59%\n",
      "Gradient min: -0.007025, max:  0.005047, stepsize:    419.29\n",
      "Loss: 0.33044037\n",
      "\n",
      "Iteration: 11\n",
      "Predicted class: 5, score:  99.69%\n",
      "Gradient min: -0.007653, max:  0.006019, stepsize:    418.38\n",
      "Loss: 0.32909787\n",
      "\n",
      "Iteration: 12\n",
      "Predicted class: 5, score:  99.31%\n",
      "Gradient min: -0.007164, max:  0.005544, stepsize:    418.49\n",
      "Loss: 0.33112416\n",
      "\n",
      "Iteration: 13\n",
      "Predicted class: 5, score:  99.63%\n",
      "Gradient min: -0.006688, max:  0.005347, stepsize:    421.27\n",
      "Loss: 0.33115306\n",
      "\n",
      "Iteration: 14\n",
      "Predicted class: 5, score:  99.13%\n",
      "Gradient min: -0.007143, max:  0.005945, stepsize:    417.83\n",
      "Loss: 0.33031052\n",
      "\n",
      "Iteration: 15\n",
      "Predicted class: 5, score:  99.80%\n",
      "Gradient min: -0.007174, max:  0.005741, stepsize:    415.18\n",
      "Loss: 0.3315223\n",
      "\n",
      "Iteration: 16\n",
      "Predicted class: 5, score:  99.58%\n",
      "Gradient min: -0.007100, max:  0.005692, stepsize:    414.99\n",
      "Loss: 0.32802603\n",
      "\n",
      "Iteration: 17\n",
      "Predicted class: 5, score:  99.83%\n",
      "Gradient min: -0.006998, max:  0.006026, stepsize:    416.32\n",
      "Loss: 0.33369943\n",
      "\n",
      "Iteration: 18\n",
      "Predicted class: 5, score:  99.46%\n",
      "Gradient min: -0.006685, max:  0.005519, stepsize:    413.71\n",
      "Loss: 0.33004433\n",
      "\n",
      "Iteration: 19\n",
      "Predicted class: 5, score:  99.84%\n",
      "Gradient min: -0.007056, max:  0.006029, stepsize:    417.54\n",
      "Loss: 0.33235934\n",
      "\n",
      "Iteration: 20\n",
      "Predicted class: 5, score:  99.45%\n",
      "Gradient min: -0.007026, max:  0.005531, stepsize:    415.93\n",
      "Loss: 0.33629966\n",
      "\n",
      "Iteration: 21\n",
      "Predicted class: 5, score:  99.81%\n",
      "Gradient min: -0.006943, max:  0.005978, stepsize:    420.81\n",
      "Loss: 0.3380239\n",
      "\n",
      "Iteration: 22\n",
      "Predicted class: 5, score:  99.61%\n",
      "Gradient min: -0.007029, max:  0.005751, stepsize:    414.92\n",
      "Loss: 0.3359461\n",
      "\n",
      "Iteration: 23\n",
      "Predicted class: 5, score:  99.88%\n",
      "Gradient min: -0.006885, max:  0.005576, stepsize:    419.83\n",
      "Loss: 0.33660477\n",
      "\n",
      "Iteration: 24\n",
      "Predicted class: 5, score:  99.68%\n",
      "Gradient min: -0.007005, max:  0.005776, stepsize:    413.32\n",
      "Loss: 0.3335646\n",
      "\n",
      "Iteration: 25\n",
      "Predicted class: 5, score:  99.86%\n",
      "Gradient min: -0.007191, max:  0.006018, stepsize:    417.36\n",
      "Loss: 0.33415207\n",
      "\n",
      "Iteration: 26\n",
      "Predicted class: 5, score:  99.76%\n",
      "Gradient min: -0.006982, max:  0.005918, stepsize:    417.63\n",
      "Loss: 0.33482817\n",
      "\n",
      "Iteration: 27\n",
      "Predicted class: 5, score:  99.88%\n",
      "Gradient min: -0.007317, max:  0.005387, stepsize:    419.12\n",
      "Loss: 0.33919168\n",
      "\n",
      "Iteration: 28\n",
      "Predicted class: 5, score:  99.79%\n",
      "Gradient min: -0.006937, max:  0.005869, stepsize:    415.55\n",
      "Loss: 0.3384201\n",
      "\n",
      "Iteration: 29\n",
      "Predicted class: 5, score:  99.84%\n",
      "Gradient min: -0.007207, max:  0.005583, stepsize:    421.60\n",
      "Loss: 0.34006912\n",
      "\n"
     ]
    }
   ],
   "source": [
    "temp=np.zeros([36,1])\n",
    "temp[11,0]=1\n",
    "image = optimize_image(conv_id=1, feature=32,\n",
    "                               show_progress=True,\n",
    "                               num_iterations=30,weight=temp)\n",
    "\n",
    "        # Squeeze the dim of the array.\n",
    "# image = image.squeeze()"
   ]
  },
  {
   "cell_type": "code",
   "execution_count": 11,
   "metadata": {},
   "outputs": [
    {
     "data": {
      "text/plain": [
       "<matplotlib.image.AxesImage at 0x7fa210360828>"
      ]
     },
     "execution_count": 11,
     "metadata": {},
     "output_type": "execute_result"
    },
    {
     "data": {
      "image/png": "[encoded data removed]",
      "text/plain": [
       "<matplotlib.figure.Figure at 0x7fa21f581f28>"
      ]
     },
     "metadata": {
      "needs_background": "light"
     },
     "output_type": "display_data"
    }
   ],
   "source": [
    "plt.imshow(image)"
   ]
  },
  {
   "cell_type": "code",
   "execution_count": 12,
   "metadata": {},
   "outputs": [],
   "source": [
    "image=np.reshape(image,[1,784])\n",
    "# x_batch, y_true_batch, _ = data.random_batch(batch_size=2)\n",
    "# x_batch.shape"
   ]
  },
  {
   "cell_type": "code",
   "execution_count": 13,
   "metadata": {},
   "outputs": [],
   "source": [
    "# x_batch, y_true_batch, _ = data.random_batch(batch_size=1)\n",
    "answer=style_matrix(image)"
   ]
  },
  {
   "cell_type": "code",
   "execution_count": 22,
   "metadata": {},
   "outputs": [
    {
     "data": {
      "text/plain": [
       "<matplotlib.image.AxesImage at 0x7fa2100f8ef0>"
      ]
     },
     "execution_count": 22,
     "metadata": {},
     "output_type": "execute_result"
    },
    {
     "data": {
      "image/png": "[encoded data removed]",
      "text/plain": [
       "<matplotlib.figure.Figure at 0x7fa210187c88>"
      ]
     },
     "metadata": {
      "needs_background": "light"
     },
     "output_type": "display_data"
    }
   ],
   "source": [
    "plt.imshow(answer[0,:,:])"
   ]
  },
  {
   "cell_type": "code",
   "execution_count": 15,
   "metadata": {},
   "outputs": [],
   "source": [
    "# x_batch, y_true_batch, _ = data.random_batch(batch_size=1)\n",
    "five=data.x_train[data.y_train_cls==1,:]\n",
    "answer2=style_matrix(five)"
   ]
  },
  {
   "cell_type": "code",
   "execution_count": 16,
   "metadata": {},
   "outputs": [],
   "source": [
    "temp=(answer-answer2).flatten()"
   ]
  },
  {
   "cell_type": "code",
   "execution_count": 17,
   "metadata": {},
   "outputs": [
    {
     "data": {
      "text/plain": [
       "49395122000.0"
      ]
     },
     "execution_count": 17,
     "metadata": {},
     "output_type": "execute_result"
    }
   ],
   "source": [
    "np.sum(temp**2)"
   ]
  },
  {
   "cell_type": "code",
   "execution_count": 18,
   "metadata": {},
   "outputs": [
    {
     "data": {
      "text/plain": [
       "array([[0., 0., 0., ..., 0., 0., 0.],\n",
       "       [0., 0., 0., ..., 0., 0., 0.],\n",
       "       [0., 0., 0., ..., 0., 0., 0.],\n",
       "       ...,\n",
       "       [0., 0., 0., ..., 0., 0., 0.],\n",
       "       [0., 0., 0., ..., 0., 0., 0.],\n",
       "       [0., 0., 0., ..., 0., 0., 0.]])"
      ]
     },
     "execution_count": 18,
     "metadata": {},
     "output_type": "execute_result"
    }
   ],
   "source": [
    "# x_batch, y_true_batch, _ = data.random_batch(batch_size=1000)\n",
    "data.x_train"
   ]
  },
  {
   "cell_type": "code",
   "execution_count": 19,
   "metadata": {},
   "outputs": [],
   "source": [
    "five=data.x_train[data.y_train_cls==5,:]"
   ]
  },
  {
   "cell_type": "code",
   "execution_count": 23,
   "metadata": {},
   "outputs": [
    {
     "data": {
      "text/plain": [
       "<matplotlib.image.AxesImage at 0x7fa21008c710>"
      ]
     },
     "execution_count": 23,
     "metadata": {},
     "output_type": "execute_result"
    },
    {
     "data": {
      "image/png": "[encoded data removed]",
      "text/plain": [
       "<matplotlib.figure.Figure at 0x7fa21009d470>"
      ]
     },
     "metadata": {
      "needs_background": "light"
     },
     "output_type": "display_data"
    }
   ],
   "source": [
    "# plt.imshow(np.mean(five,axis=1)\n",
    "plt.imshow(np.reshape(np.mean(five,axis=0),[28,28]))"
   ]
  },
  {
   "cell_type": "code",
   "execution_count": 24,
   "metadata": {},
   "outputs": [],
   "source": [
    "def optfunc(weight):\n",
    "    image = optimize_image(conv_id=1, feature=32,\n",
    "                               show_progress=False,\n",
    "                               num_iterations=30,weight=weight)\n",
    "    answer=style_matrix(np.reshape(image,[1,784]))\n",
    "    five=data.x_train[data.y_train_cls==1,:]\n",
    "    answer2=style_matrix(five)\n",
    "    temp1=(answer-answer2).flatten()\n",
    "    return np.sqrt(np.sum(temp1**2))"
   ]
  },
  {
   "cell_type": "code",
   "execution_count": 25,
   "metadata": {},
   "outputs": [
    {
     "data": {
      "text/plain": [
       "215793.36"
      ]
     },
     "execution_count": 25,
     "metadata": {},
     "output_type": "execute_result"
    }
   ],
   "source": [
    "we=np.zeros([36,1])\n",
    "we[11,0]=1\n",
    "optfunc(we)"
   ]
  },
  {
   "cell_type": "code",
   "execution_count": 38,
   "metadata": {},
   "outputs": [],
   "source": [
    "num=20\n",
    "s = np.random.uniform(0,1,(10,num))\n",
    "tt=np.sum(s,axis=0)\n",
    "we=s/tt\n",
    "we=np.append(we,np.zeros((26,num)),axis=0)\n"
   ]
  },
  {
   "cell_type": "code",
   "execution_count": 39,
   "metadata": {},
   "outputs": [
    {
     "data": {
      "text/plain": [
       "array([[0.01493684, 0.19077074, 0.07724226, 0.05441263, 0.07823018,\n",
       "        0.11546845, 0.17102502, 0.16782497, 0.10031867, 0.19362072,\n",
       "        0.0181802 , 0.06516869, 0.04106129, 0.13062384, 0.07622592,\n",
       "        0.10662115, 0.06716949, 0.05032604, 0.01563716, 0.08469243],\n",
       "       [0.10610235, 0.12022259, 0.21110578, 0.10048645, 0.12047768,\n",
       "        0.14555572, 0.01184503, 0.00495473, 0.02085676, 0.2490397 ,\n",
       "        0.09199657, 0.12356838, 0.00298559, 0.14495227, 0.08154027,\n",
       "        0.14368195, 0.14517643, 0.13634848, 0.06397667, 0.14602212],\n",
       "       [0.15573867, 0.1398714 , 0.2392329 , 0.20436351, 0.19233297,\n",
       "        0.17081087, 0.07016563, 0.0454562 , 0.13478186, 0.0089845 ,\n",
       "        0.04718601, 0.07425147, 0.07130279, 0.13052279, 0.18291455,\n",
       "        0.16782665, 0.0792084 , 0.00924767, 0.02160041, 0.02322894],\n",
       "       [0.00388256, 0.07915808, 0.05814125, 0.21254229, 0.22869598,\n",
       "        0.1810667 , 0.0333698 , 0.04492081, 0.12101085, 0.06157922,\n",
       "        0.19487424, 0.00789348, 0.21360952, 0.0588061 , 0.01002974,\n",
       "        0.01597098, 0.07650432, 0.17110696, 0.15167604, 0.0210244 ],\n",
       "       [0.08272918, 0.11213275, 0.03136441, 0.08083175, 0.04445601,\n",
       "        0.2214588 , 0.11428507, 0.17025685, 0.13820303, 0.06036587,\n",
       "        0.05500758, 0.00035237, 0.07549773, 0.10086743, 0.01181055,\n",
       "        0.0258144 , 0.17247975, 0.12802405, 0.1843212 , 0.12908784],\n",
       "       [0.09778693, 0.01377622, 0.01190621, 0.01612979, 0.04821381,\n",
       "        0.0092915 , 0.15667974, 0.12879188, 0.12327624, 0.06414063,\n",
       "        0.11148758, 0.20626877, 0.192009  , 0.14310903, 0.06580074,\n",
       "        0.07447586, 0.08571408, 0.14276546, 0.19589889, 0.08595356],\n",
       "       [0.12291684, 0.0837022 , 0.04579802, 0.11644561, 0.02090289,\n",
       "        0.03103298, 0.05302102, 0.06265924, 0.12212242, 0.1022607 ,\n",
       "        0.18515338, 0.14872908, 0.10561266, 0.07451096, 0.08500877,\n",
       "        0.18037391, 0.12103119, 0.1821584 , 0.01982375, 0.15304649],\n",
       "       [0.09234801, 0.03286022, 0.22148882, 0.01164211, 0.02281633,\n",
       "        0.02107246, 0.04287663, 0.18164765, 0.05610841, 0.16610501,\n",
       "        0.06248625, 0.18668935, 0.17205027, 0.07504382, 0.12841903,\n",
       "        0.03309904, 0.0645964 , 0.06762993, 0.12123064, 0.15063732],\n",
       "       [0.1243061 , 0.16095277, 0.06632381, 0.14901113, 0.04982617,\n",
       "        0.08508554, 0.20971449, 0.14302012, 0.09654787, 0.06048725,\n",
       "        0.21958268, 0.06522258, 0.10181121, 0.08537855, 0.16210581,\n",
       "        0.09702585, 0.13967588, 0.08370481, 0.11944207, 0.15547167],\n",
       "       [0.19925251, 0.06655303, 0.03739655, 0.05413473, 0.19404797,\n",
       "        0.01915697, 0.13701758, 0.05046756, 0.08677389, 0.0334164 ,\n",
       "        0.01404551, 0.12185583, 0.02405996, 0.05618521, 0.19614463,\n",
       "        0.15511021, 0.04844406, 0.0286882 , 0.10639316, 0.05083524],\n",
       "       [0.        , 0.        , 0.        , 0.        , 0.        ,\n",
       "        0.        , 0.        , 0.        , 0.        , 0.        ,\n",
       "        0.        , 0.        , 0.        , 0.        , 0.        ,\n",
       "        0.        , 0.        , 0.        , 0.        , 0.        ],\n",
       "       [0.        , 0.        , 0.        , 0.        , 0.        ,\n",
       "        0.        , 0.        , 0.        , 0.        , 0.        ,\n",
       "        0.        , 0.        , 0.        , 0.        , 0.        ,\n",
       "        0.        , 0.        , 0.        , 0.        , 0.        ],\n",
       "       [0.        , 0.        , 0.        , 0.        , 0.        ,\n",
       "        0.        , 0.        , 0.        , 0.        , 0.        ,\n",
       "        0.        , 0.        , 0.        , 0.        , 0.        ,\n",
       "        0.        , 0.        , 0.        , 0.        , 0.        ],\n",
       "       [0.        , 0.        , 0.        , 0.        , 0.        ,\n",
       "        0.        , 0.        , 0.        , 0.        , 0.        ,\n",
       "        0.        , 0.        , 0.        , 0.        , 0.        ,\n",
       "        0.        , 0.        , 0.        , 0.        , 0.        ],\n",
       "       [0.        , 0.        , 0.        , 0.        , 0.        ,\n",
       "        0.        , 0.        , 0.        , 0.        , 0.        ,\n",
       "        0.        , 0.        , 0.        , 0.        , 0.        ,\n",
       "        0.        , 0.        , 0.        , 0.        , 0.        ],\n",
       "       [0.        , 0.        , 0.        , 0.        , 0.        ,\n",
       "        0.        , 0.        , 0.        , 0.        , 0.        ,\n",
       "        0.        , 0.        , 0.        , 0.        , 0.        ,\n",
       "        0.        , 0.        , 0.        , 0.        , 0.        ],\n",
       "       [0.        , 0.        , 0.        , 0.        , 0.        ,\n",
       "        0.        , 0.        , 0.        , 0.        , 0.        ,\n",
       "        0.        , 0.        , 0.        , 0.        , 0.        ,\n",
       "        0.        , 0.        , 0.        , 0.        , 0.        ],\n",
       "       [0.        , 0.        , 0.        , 0.        , 0.        ,\n",
       "        0.        , 0.        , 0.        , 0.        , 0.        ,\n",
       "        0.        , 0.        , 0.        , 0.        , 0.        ,\n",
       "        0.        , 0.        , 0.        , 0.        , 0.        ],\n",
       "       [0.        , 0.        , 0.        , 0.        , 0.        ,\n",
       "        0.        , 0.        , 0.        , 0.        , 0.        ,\n",
       "        0.        , 0.        , 0.        , 0.        , 0.        ,\n",
       "        0.        , 0.        , 0.        , 0.        , 0.        ],\n",
       "       [0.        , 0.        , 0.        , 0.        , 0.        ,\n",
       "        0.        , 0.        , 0.        , 0.        , 0.        ,\n",
       "        0.        , 0.        , 0.        , 0.        , 0.        ,\n",
       "        0.        , 0.        , 0.        , 0.        , 0.        ],\n",
       "       [0.        , 0.        , 0.        , 0.        , 0.        ,\n",
       "        0.        , 0.        , 0.        , 0.        , 0.        ,\n",
       "        0.        , 0.        , 0.        , 0.        , 0.        ,\n",
       "        0.        , 0.        , 0.        , 0.        , 0.        ],\n",
       "       [0.        , 0.        , 0.        , 0.        , 0.        ,\n",
       "        0.        , 0.        , 0.        , 0.        , 0.        ,\n",
       "        0.        , 0.        , 0.        , 0.        , 0.        ,\n",
       "        0.        , 0.        , 0.        , 0.        , 0.        ],\n",
       "       [0.        , 0.        , 0.        , 0.        , 0.        ,\n",
       "        0.        , 0.        , 0.        , 0.        , 0.        ,\n",
       "        0.        , 0.        , 0.        , 0.        , 0.        ,\n",
       "        0.        , 0.        , 0.        , 0.        , 0.        ],\n",
       "       [0.        , 0.        , 0.        , 0.        , 0.        ,\n",
       "        0.        , 0.        , 0.        , 0.        , 0.        ,\n",
       "        0.        , 0.        , 0.        , 0.        , 0.        ,\n",
       "        0.        , 0.        , 0.        , 0.        , 0.        ],\n",
       "       [0.        , 0.        , 0.        , 0.        , 0.        ,\n",
       "        0.        , 0.        , 0.        , 0.        , 0.        ,\n",
       "        0.        , 0.        , 0.        , 0.        , 0.        ,\n",
       "        0.        , 0.        , 0.        , 0.        , 0.        ],\n",
       "       [0.        , 0.        , 0.        , 0.        , 0.        ,\n",
       "        0.        , 0.        , 0.        , 0.        , 0.        ,\n",
       "        0.        , 0.        , 0.        , 0.        , 0.        ,\n",
       "        0.        , 0.        , 0.        , 0.        , 0.        ],\n",
       "       [0.        , 0.        , 0.        , 0.        , 0.        ,\n",
       "        0.        , 0.        , 0.        , 0.        , 0.        ,\n",
       "        0.        , 0.        , 0.        , 0.        , 0.        ,\n",
       "        0.        , 0.        , 0.        , 0.        , 0.        ],\n",
       "       [0.        , 0.        , 0.        , 0.        , 0.        ,\n",
       "        0.        , 0.        , 0.        , 0.        , 0.        ,\n",
       "        0.        , 0.        , 0.        , 0.        , 0.        ,\n",
       "        0.        , 0.        , 0.        , 0.        , 0.        ],\n",
       "       [0.        , 0.        , 0.        , 0.        , 0.        ,\n",
       "        0.        , 0.        , 0.        , 0.        , 0.        ,\n",
       "        0.        , 0.        , 0.        , 0.        , 0.        ,\n",
       "        0.        , 0.        , 0.        , 0.        , 0.        ],\n",
       "       [0.        , 0.        , 0.        , 0.        , 0.        ,\n",
       "        0.        , 0.        , 0.        , 0.        , 0.        ,\n",
       "        0.        , 0.        , 0.        , 0.        , 0.        ,\n",
       "        0.        , 0.        , 0.        , 0.        , 0.        ],\n",
       "       [0.        , 0.        , 0.        , 0.        , 0.        ,\n",
       "        0.        , 0.        , 0.        , 0.        , 0.        ,\n",
       "        0.        , 0.        , 0.        , 0.        , 0.        ,\n",
       "        0.        , 0.        , 0.        , 0.        , 0.        ],\n",
       "       [0.        , 0.        , 0.        , 0.        , 0.        ,\n",
       "        0.        , 0.        , 0.        , 0.        , 0.        ,\n",
       "        0.        , 0.        , 0.        , 0.        , 0.        ,\n",
       "        0.        , 0.        , 0.        , 0.        , 0.        ],\n",
       "       [0.        , 0.        , 0.        , 0.        , 0.        ,\n",
       "        0.        , 0.        , 0.        , 0.        , 0.        ,\n",
       "        0.        , 0.        , 0.        , 0.        , 0.        ,\n",
       "        0.        , 0.        , 0.        , 0.        , 0.        ],\n",
       "       [0.        , 0.        , 0.        , 0.        , 0.        ,\n",
       "        0.        , 0.        , 0.        , 0.        , 0.        ,\n",
       "        0.        , 0.        , 0.        , 0.        , 0.        ,\n",
       "        0.        , 0.        , 0.        , 0.        , 0.        ],\n",
       "       [0.        , 0.        , 0.        , 0.        , 0.        ,\n",
       "        0.        , 0.        , 0.        , 0.        , 0.        ,\n",
       "        0.        , 0.        , 0.        , 0.        , 0.        ,\n",
       "        0.        , 0.        , 0.        , 0.        , 0.        ],\n",
       "       [0.        , 0.        , 0.        , 0.        , 0.        ,\n",
       "        0.        , 0.        , 0.        , 0.        , 0.        ,\n",
       "        0.        , 0.        , 0.        , 0.        , 0.        ,\n",
       "        0.        , 0.        , 0.        , 0.        , 0.        ]])"
      ]
     },
     "execution_count": 39,
     "metadata": {},
     "output_type": "execute_result"
    }
   ],
   "source": [
    "we"
   ]
  },
  {
   "cell_type": "code",
   "execution_count": 48,
   "metadata": {},
   "outputs": [
    {
     "name": "stdout",
     "output_type": "stream",
     "text": [
      "[-195156.06, -152978.5, -182967.16, -159850.16, -176988.44, -161413.06, -176131.73, -180777.17, -179396.05, -163016.16, -176719.44, -181990.77, -187408.53, -192801.34, -180444.3, -165414.36, -195695.44, -182560.17, -196469.1, -189243.7]\n"
     ]
    }
   ],
   "source": [
    "y=[]\n",
    "for i in range(num):\n",
    "    tte=we[:,i]\n",
    "    y.append(-optfunc(tte[:,np.newaxis]))\n",
    "print(y)\n",
    "fitness=y"
   ]
  },
  {
   "cell_type": "code",
   "execution_count": 49,
   "metadata": {},
   "outputs": [],
   "source": [
    "# from sklearn.gaussian_process import GaussianProcessRegressor\n",
    "# from sklearn.gaussian_process.kernels import RBF, ConstantKernel as C\n",
    "def select_mating_pool(pop, fitness, num_parents):\n",
    "\n",
    "    # Selecting the best individuals in the current generation as parents for producing the offspring of the next generation.\n",
    "\n",
    "#     parents = numpy.empty((num_parents, pop.shape[1]))\n",
    "    parents = np.empty((pop.shape[0],num_parents))\n",
    "\n",
    "    for parent_num in range(num_parents):\n",
    "\n",
    "        max_fitness_idx = np.where(fitness == np.max(fitness))\n",
    "\n",
    "        max_fitness_idx = max_fitness_idx[0][0]\n",
    "\n",
    "        parents[:,parent_num] = pop[:,max_fitness_idx]\n",
    "\n",
    "        fitness[max_fitness_idx] = -99999999999\n",
    "\n",
    "    return parents"
   ]
  },
  {
   "cell_type": "code",
   "execution_count": 52,
   "metadata": {},
   "outputs": [
    {
     "data": {
      "text/plain": [
       "(36, 5)"
      ]
     },
     "execution_count": 52,
     "metadata": {},
     "output_type": "execute_result"
    }
   ],
   "source": [
    "parents=select_mating_pool(we,fitness,5)\n",
    "parents.shape"
   ]
  },
  {
   "cell_type": "code",
   "execution_count": 56,
   "metadata": {},
   "outputs": [],
   "source": [
    "def crossover(parents, offspring_size):\n",
    "     offspring = np.empty(offspring_size)\n",
    "     # The point at which crossover takes place between two parents. Usually, it is at the center.\n",
    "     crossover_point = np.uint8(offspring_size[1]/2)\n",
    " \n",
    "     for k in range(offspring_size[1]):\n",
    "         # Index of the first parent to mate.\n",
    "         parent1_idx = k%parents.shape[1]\n",
    "         # Index of the second parent to mate.\n",
    "         parent2_idx = (k+1)%parents.shape[1]\n",
    "         # The new offspring will have its first half of its genes taken from the first parent.\n",
    "         offspring[0:crossover_point,k] = parents[0:crossover_point,parent1_idx]\n",
    "         # The new offspring will have its second half of its genes taken from the second parent.\n",
    "         offspring[crossover_point:,k] = parents[crossover_point:,parent2_idx]\n",
    "     return offspring"
   ]
  },
  {
   "cell_type": "code",
   "execution_count": 59,
   "metadata": {},
   "outputs": [],
   "source": [
    "offspring_size=[36,10]\n",
    "offspring=crossover(parents, offspring_size)"
   ]
  },
  {
   "cell_type": "code",
   "execution_count": 76,
   "metadata": {},
   "outputs": [],
   "source": [
    "def mutation(offspring_crossover):\n",
    "\n",
    "    # Mutation changes a single gene in each offspring randomly.\n",
    "\n",
    "    for idx in range(offspring_crossover.shape[1]):\n",
    "\n",
    "        # The random value to be added to the gene.\n",
    "\n",
    "        random_value = np.random.uniform(-1.0, 1.0, [10])*0.1\n",
    "\n",
    "        offspring_crossover[:10,idx] = offspring_crossover[:10,idx] + random_value\n",
    "\n",
    "    return offspring_crossover"
   ]
  },
  {
   "cell_type": "code",
   "execution_count": 75,
   "metadata": {},
   "outputs": [
    {
     "data": {
      "text/plain": [
       "array([ 0.21270554,  0.1179453 ,  0.04204391, -0.05446782,  0.32355796,\n",
       "        0.20610998,  0.12799933,  0.25346487,  0.20840728,  0.02571764])"
      ]
     },
     "execution_count": 75,
     "metadata": {},
     "output_type": "execute_result"
    }
   ],
   "source": [
    "# # offspring[:10,5]+np.random.uniform(-1.0, 1.0, [10,1])*0.1\n",
    "# # offspring.shape[1]\n",
    "# idx=5\n",
    "# random_value = np.random.uniform(-1.0, 1.0, [10])*0.1\n",
    "# # random_value\n",
    "# offspring[:10,idx] = offspring[:10,idx] + random_value\n",
    "# offspring[:10,idx] + random_value\n",
    "# # offspring[:10,idx]"
   ]
  },
  {
   "cell_type": "code",
   "execution_count": 77,
   "metadata": {},
   "outputs": [
    {
     "data": {
      "text/plain": [
       "array([[ 0.13051684,  0.02363997, -0.04315603,  0.03400203,  0.05224166,\n",
       "         0.24548547,  0.11683839,  0.12976504,  0.0802495 ,  0.01075802],\n",
       "       [-0.09289498,  0.1459717 ,  0.07253085,  0.16871698,  0.01546768,\n",
       "         0.14357892,  0.0246792 ,  0.20621322,  0.25621741, -0.04552562],\n",
       "       [ 0.02777188,  0.09269065,  0.02788935,  0.21054905, -0.00892496,\n",
       "        -0.00093564,  0.07172852,  0.08897089,  0.14162095,  0.14361437],\n",
       "       [ 0.0157062 ,  0.08607441,  0.22904256,  0.11736897,  0.28944317,\n",
       "         0.03203459,  0.09951931,  0.09426058,  0.01802388,  0.29871417],\n",
       "       [ 0.25161916, -0.03260488,  0.07765631,  0.09054168,  0.07887994,\n",
       "         0.17390097,  0.01429314,  0.2009497 ,  0.00206686, -0.02082197],\n",
       "       [ 0.28877   ,  0.1262356 , -0.03317334,  0.28858671,  0.14955915,\n",
       "         0.23101739,  0.17691461, -0.01000145,  0.15499831,  0.14924754],\n",
       "       [ 0.15220608,  0.2589239 ,  0.03177284,  0.03743814, -0.02538593,\n",
       "         0.08093404,  0.17753083,  0.14375977,  0.10809833,  0.04098766],\n",
       "       [ 0.25252215,  0.14726517,  0.20126785,  0.24492973,  0.10256409,\n",
       "         0.20011658,  0.10510205,  0.14580657,  0.23631563,  0.15502628],\n",
       "       [ 0.12301124,  0.04615424,  0.01995064,  0.06090419,  0.04527532,\n",
       "         0.04872907,  0.17458997,  0.10075244,  0.09033444,  0.05838059],\n",
       "       [ 0.14383289, -0.03491665, -0.02839542,  0.0466498 ,  0.09542025,\n",
       "        -0.01899105,  0.05168462,  0.11186499, -0.02029567,  0.08516775],\n",
       "       [ 0.        ,  0.        ,  0.        ,  0.        ,  0.        ,\n",
       "         0.        ,  0.        ,  0.        ,  0.        ,  0.        ],\n",
       "       [ 0.        ,  0.        ,  0.        ,  0.        ,  0.        ,\n",
       "         0.        ,  0.        ,  0.        ,  0.        ,  0.        ],\n",
       "       [ 0.        ,  0.        ,  0.        ,  0.        ,  0.        ,\n",
       "         0.        ,  0.        ,  0.        ,  0.        ,  0.        ],\n",
       "       [ 0.        ,  0.        ,  0.        ,  0.        ,  0.        ,\n",
       "         0.        ,  0.        ,  0.        ,  0.        ,  0.        ],\n",
       "       [ 0.        ,  0.        ,  0.        ,  0.        ,  0.        ,\n",
       "         0.        ,  0.        ,  0.        ,  0.        ,  0.        ],\n",
       "       [ 0.        ,  0.        ,  0.        ,  0.        ,  0.        ,\n",
       "         0.        ,  0.        ,  0.        ,  0.        ,  0.        ],\n",
       "       [ 0.        ,  0.        ,  0.        ,  0.        ,  0.        ,\n",
       "         0.        ,  0.        ,  0.        ,  0.        ,  0.        ],\n",
       "       [ 0.        ,  0.        ,  0.        ,  0.        ,  0.        ,\n",
       "         0.        ,  0.        ,  0.        ,  0.        ,  0.        ],\n",
       "       [ 0.        ,  0.        ,  0.        ,  0.        ,  0.        ,\n",
       "         0.        ,  0.        ,  0.        ,  0.        ,  0.        ],\n",
       "       [ 0.        ,  0.        ,  0.        ,  0.        ,  0.        ,\n",
       "         0.        ,  0.        ,  0.        ,  0.        ,  0.        ],\n",
       "       [ 0.        ,  0.        ,  0.        ,  0.        ,  0.        ,\n",
       "         0.        ,  0.        ,  0.        ,  0.        ,  0.        ],\n",
       "       [ 0.        ,  0.        ,  0.        ,  0.        ,  0.        ,\n",
       "         0.        ,  0.        ,  0.        ,  0.        ,  0.        ],\n",
       "       [ 0.        ,  0.        ,  0.        ,  0.        ,  0.        ,\n",
       "         0.        ,  0.        ,  0.        ,  0.        ,  0.        ],\n",
       "       [ 0.        ,  0.        ,  0.        ,  0.        ,  0.        ,\n",
       "         0.        ,  0.        ,  0.        ,  0.        ,  0.        ],\n",
       "       [ 0.        ,  0.        ,  0.        ,  0.        ,  0.        ,\n",
       "         0.        ,  0.        ,  0.        ,  0.        ,  0.        ],\n",
       "       [ 0.        ,  0.        ,  0.        ,  0.        ,  0.        ,\n",
       "         0.        ,  0.        ,  0.        ,  0.        ,  0.        ],\n",
       "       [ 0.        ,  0.        ,  0.        ,  0.        ,  0.        ,\n",
       "         0.        ,  0.        ,  0.        ,  0.        ,  0.        ],\n",
       "       [ 0.        ,  0.        ,  0.        ,  0.        ,  0.        ,\n",
       "         0.        ,  0.        ,  0.        ,  0.        ,  0.        ],\n",
       "       [ 0.        ,  0.        ,  0.        ,  0.        ,  0.        ,\n",
       "         0.        ,  0.        ,  0.        ,  0.        ,  0.        ],\n",
       "       [ 0.        ,  0.        ,  0.        ,  0.        ,  0.        ,\n",
       "         0.        ,  0.        ,  0.        ,  0.        ,  0.        ],\n",
       "       [ 0.        ,  0.        ,  0.        ,  0.        ,  0.        ,\n",
       "         0.        ,  0.        ,  0.        ,  0.        ,  0.        ],\n",
       "       [ 0.        ,  0.        ,  0.        ,  0.        ,  0.        ,\n",
       "         0.        ,  0.        ,  0.        ,  0.        ,  0.        ],\n",
       "       [ 0.        ,  0.        ,  0.        ,  0.        ,  0.        ,\n",
       "         0.        ,  0.        ,  0.        ,  0.        ,  0.        ],\n",
       "       [ 0.        ,  0.        ,  0.        ,  0.        ,  0.        ,\n",
       "         0.        ,  0.        ,  0.        ,  0.        ,  0.        ],\n",
       "       [ 0.        ,  0.        ,  0.        ,  0.        ,  0.        ,\n",
       "         0.        ,  0.        ,  0.        ,  0.        ,  0.        ],\n",
       "       [ 0.        ,  0.        ,  0.        ,  0.        ,  0.        ,\n",
       "         0.        ,  0.        ,  0.        ,  0.        ,  0.        ]])"
      ]
     },
     "execution_count": 77,
     "metadata": {},
     "output_type": "execute_result"
    }
   ],
   "source": [
    "mutation(offspring)"
   ]
  },
  {
   "cell_type": "code",
   "execution_count": 106,
   "metadata": {},
   "outputs": [],
   "source": [
    "num=20\n",
    "s = np.random.uniform(0,1,(10,num))\n",
    "tt=np.sum(s,axis=0)\n",
    "we=s/tt\n",
    "we=np.append(we,np.zeros((26,num)),axis=0)"
   ]
  },
  {
   "cell_type": "code",
   "execution_count": 107,
   "metadata": {},
   "outputs": [
    {
     "data": {
      "text/plain": [
       "(36, 20)"
      ]
     },
     "execution_count": 107,
     "metadata": {},
     "output_type": "execute_result"
    }
   ],
   "source": [
    "we.shape"
   ]
  },
  {
   "cell_type": "code",
   "execution_count": 108,
   "metadata": {},
   "outputs": [
    {
     "name": "stdout",
     "output_type": "stream",
     "text": [
      "[-180769.14]\n",
      "[-180769.14, -171123.12]\n",
      "[-180769.14, -171123.12, -162643.67]\n",
      "[-180769.14, -171123.12, -162643.67, -150625.31]\n",
      "[-180769.14, -171123.12, -162643.67, -150625.31, -140076.75]\n",
      "[-180769.14, -171123.12, -162643.67, -150625.31, -140076.75, -126998.35]\n",
      "[-180769.14, -171123.12, -162643.67, -150625.31, -140076.75, -126998.35, -112619.66]\n",
      "[-180769.14, -171123.12, -162643.67, -150625.31, -140076.75, -126998.35, -112619.66, -96576.516]\n",
      "[-180769.14, -171123.12, -162643.67, -150625.31, -140076.75, -126998.35, -112619.66, -96576.516, -86576.945]\n",
      "[-180769.14, -171123.12, -162643.67, -150625.31, -140076.75, -126998.35, -112619.66, -96576.516, -86576.945, -80359.26]\n",
      "[-180769.14, -171123.12, -162643.67, -150625.31, -140076.75, -126998.35, -112619.66, -96576.516, -86576.945, -80359.26, -79872.72]\n",
      "[-180769.14, -171123.12, -162643.67, -150625.31, -140076.75, -126998.35, -112619.66, -96576.516, -86576.945, -80359.26, -79872.72, -74500.95]\n",
      "[-180769.14, -171123.12, -162643.67, -150625.31, -140076.75, -126998.35, -112619.66, -96576.516, -86576.945, -80359.26, -79872.72, -74500.95, -73547.96]\n",
      "[-180769.14, -171123.12, -162643.67, -150625.31, -140076.75, -126998.35, -112619.66, -96576.516, -86576.945, -80359.26, -79872.72, -74500.95, -73547.96, -67913.48]\n",
      "[-180769.14, -171123.12, -162643.67, -150625.31, -140076.75, -126998.35, -112619.66, -96576.516, -86576.945, -80359.26, -79872.72, -74500.95, -73547.96, -67913.48, -69543.39]\n",
      "[-180769.14, -171123.12, -162643.67, -150625.31, -140076.75, -126998.35, -112619.66, -96576.516, -86576.945, -80359.26, -79872.72, -74500.95, -73547.96, -67913.48, -69543.39, -64272.52]\n",
      "[-180769.14, -171123.12, -162643.67, -150625.31, -140076.75, -126998.35, -112619.66, -96576.516, -86576.945, -80359.26, -79872.72, -74500.95, -73547.96, -67913.48, -69543.39, -64272.52, -61557.074]\n",
      "[-180769.14, -171123.12, -162643.67, -150625.31, -140076.75, -126998.35, -112619.66, -96576.516, -86576.945, -80359.26, -79872.72, -74500.95, -73547.96, -67913.48, -69543.39, -64272.52, -61557.074, -57648.637]\n",
      "[-180769.14, -171123.12, -162643.67, -150625.31, -140076.75, -126998.35, -112619.66, -96576.516, -86576.945, -80359.26, -79872.72, -74500.95, -73547.96, -67913.48, -69543.39, -64272.52, -61557.074, -57648.637, -56712.426]\n",
      "[-180769.14, -171123.12, -162643.67, -150625.31, -140076.75, -126998.35, -112619.66, -96576.516, -86576.945, -80359.26, -79872.72, -74500.95, -73547.96, -67913.48, -69543.39, -64272.52, -61557.074, -57648.637, -56712.426, -58310.242]\n",
      "[-180769.14, -171123.12, -162643.67, -150625.31, -140076.75, -126998.35, -112619.66, -96576.516, -86576.945, -80359.26, -79872.72, -74500.95, -73547.96, -67913.48, -69543.39, -64272.52, -61557.074, -57648.637, -56712.426, -58310.242, -55393.24]\n",
      "[-180769.14, -171123.12, -162643.67, -150625.31, -140076.75, -126998.35, -112619.66, -96576.516, -86576.945, -80359.26, -79872.72, -74500.95, -73547.96, -67913.48, -69543.39, -64272.52, -61557.074, -57648.637, -56712.426, -58310.242, -55393.24, -56747.95]\n",
      "[-180769.14, -171123.12, -162643.67, -150625.31, -140076.75, -126998.35, -112619.66, -96576.516, -86576.945, -80359.26, -79872.72, -74500.95, -73547.96, -67913.48, -69543.39, -64272.52, -61557.074, -57648.637, -56712.426, -58310.242, -55393.24, -56747.95, -60075.92]\n",
      "[-180769.14, -171123.12, -162643.67, -150625.31, -140076.75, -126998.35, -112619.66, -96576.516, -86576.945, -80359.26, -79872.72, -74500.95, -73547.96, -67913.48, -69543.39, -64272.52, -61557.074, -57648.637, -56712.426, -58310.242, -55393.24, -56747.95, -60075.92, -53818.21]\n",
      "[-180769.14, -171123.12, -162643.67, -150625.31, -140076.75, -126998.35, -112619.66, -96576.516, -86576.945, -80359.26, -79872.72, -74500.95, -73547.96, -67913.48, -69543.39, -64272.52, -61557.074, -57648.637, -56712.426, -58310.242, -55393.24, -56747.95, -60075.92, -53818.21, -55537.71]\n",
      "[-180769.14, -171123.12, -162643.67, -150625.31, -140076.75, -126998.35, -112619.66, -96576.516, -86576.945, -80359.26, -79872.72, -74500.95, -73547.96, -67913.48, -69543.39, -64272.52, -61557.074, -57648.637, -56712.426, -58310.242, -55393.24, -56747.95, -60075.92, -53818.21, -55537.71, -51626.508]\n",
      "[-180769.14, -171123.12, -162643.67, -150625.31, -140076.75, -126998.35, -112619.66, -96576.516, -86576.945, -80359.26, -79872.72, -74500.95, -73547.96, -67913.48, -69543.39, -64272.52, -61557.074, -57648.637, -56712.426, -58310.242, -55393.24, -56747.95, -60075.92, -53818.21, -55537.71, -51626.508, -57234.605]\n",
      "[-180769.14, -171123.12, -162643.67, -150625.31, -140076.75, -126998.35, -112619.66, -96576.516, -86576.945, -80359.26, -79872.72, -74500.95, -73547.96, -67913.48, -69543.39, -64272.52, -61557.074, -57648.637, -56712.426, -58310.242, -55393.24, -56747.95, -60075.92, -53818.21, -55537.71, -51626.508, -57234.605, -52829.145]\n",
      "[-180769.14, -171123.12, -162643.67, -150625.31, -140076.75, -126998.35, -112619.66, -96576.516, -86576.945, -80359.26, -79872.72, -74500.95, -73547.96, -67913.48, -69543.39, -64272.52, -61557.074, -57648.637, -56712.426, -58310.242, -55393.24, -56747.95, -60075.92, -53818.21, -55537.71, -51626.508, -57234.605, -52829.145, -52941.766]\n",
      "[-180769.14, -171123.12, -162643.67, -150625.31, -140076.75, -126998.35, -112619.66, -96576.516, -86576.945, -80359.26, -79872.72, -74500.95, -73547.96, -67913.48, -69543.39, -64272.52, -61557.074, -57648.637, -56712.426, -58310.242, -55393.24, -56747.95, -60075.92, -53818.21, -55537.71, -51626.508, -57234.605, -52829.145, -52941.766, -55757.367]\n",
      "[-180769.14, -171123.12, -162643.67, -150625.31, -140076.75, -126998.35, -112619.66, -96576.516, -86576.945, -80359.26, -79872.72, -74500.95, -73547.96, -67913.48, -69543.39, -64272.52, -61557.074, -57648.637, -56712.426, -58310.242, -55393.24, -56747.95, -60075.92, -53818.21, -55537.71, -51626.508, -57234.605, -52829.145, -52941.766, -55757.367, -52966.004]\n",
      "[-180769.14, -171123.12, -162643.67, -150625.31, -140076.75, -126998.35, -112619.66, -96576.516, -86576.945, -80359.26, -79872.72, -74500.95, -73547.96, -67913.48, -69543.39, -64272.52, -61557.074, -57648.637, -56712.426, -58310.242, -55393.24, -56747.95, -60075.92, -53818.21, -55537.71, -51626.508, -57234.605, -52829.145, -52941.766, -55757.367, -52966.004, -52690.19]\n",
      "[-180769.14, -171123.12, -162643.67, -150625.31, -140076.75, -126998.35, -112619.66, -96576.516, -86576.945, -80359.26, -79872.72, -74500.95, -73547.96, -67913.48, -69543.39, -64272.52, -61557.074, -57648.637, -56712.426, -58310.242, -55393.24, -56747.95, -60075.92, -53818.21, -55537.71, -51626.508, -57234.605, -52829.145, -52941.766, -55757.367, -52966.004, -52690.19, -50315.566]\n",
      "[-180769.14, -171123.12, -162643.67, -150625.31, -140076.75, -126998.35, -112619.66, -96576.516, -86576.945, -80359.26, -79872.72, -74500.95, -73547.96, -67913.48, -69543.39, -64272.52, -61557.074, -57648.637, -56712.426, -58310.242, -55393.24, -56747.95, -60075.92, -53818.21, -55537.71, -51626.508, -57234.605, -52829.145, -52941.766, -55757.367, -52966.004, -52690.19, -50315.566, -52242.43]\n",
      "[-180769.14, -171123.12, -162643.67, -150625.31, -140076.75, -126998.35, -112619.66, -96576.516, -86576.945, -80359.26, -79872.72, -74500.95, -73547.96, -67913.48, -69543.39, -64272.52, -61557.074, -57648.637, -56712.426, -58310.242, -55393.24, -56747.95, -60075.92, -53818.21, -55537.71, -51626.508, -57234.605, -52829.145, -52941.766, -55757.367, -52966.004, -52690.19, -50315.566, -52242.43, -50945.473]\n",
      "[-180769.14, -171123.12, -162643.67, -150625.31, -140076.75, -126998.35, -112619.66, -96576.516, -86576.945, -80359.26, -79872.72, -74500.95, -73547.96, -67913.48, -69543.39, -64272.52, -61557.074, -57648.637, -56712.426, -58310.242, -55393.24, -56747.95, -60075.92, -53818.21, -55537.71, -51626.508, -57234.605, -52829.145, -52941.766, -55757.367, -52966.004, -52690.19, -50315.566, -52242.43, -50945.473, -52350.754]\n",
      "[-180769.14, -171123.12, -162643.67, -150625.31, -140076.75, -126998.35, -112619.66, -96576.516, -86576.945, -80359.26, -79872.72, -74500.95, -73547.96, -67913.48, -69543.39, -64272.52, -61557.074, -57648.637, -56712.426, -58310.242, -55393.24, -56747.95, -60075.92, -53818.21, -55537.71, -51626.508, -57234.605, -52829.145, -52941.766, -55757.367, -52966.004, -52690.19, -50315.566, -52242.43, -50945.473, -52350.754, -49979.1]\n"
     ]
    },
    {
     "name": "stdout",
     "output_type": "stream",
     "text": [
      "[-180769.14, -171123.12, -162643.67, -150625.31, -140076.75, -126998.35, -112619.66, -96576.516, -86576.945, -80359.26, -79872.72, -74500.95, -73547.96, -67913.48, -69543.39, -64272.52, -61557.074, -57648.637, -56712.426, -58310.242, -55393.24, -56747.95, -60075.92, -53818.21, -55537.71, -51626.508, -57234.605, -52829.145, -52941.766, -55757.367, -52966.004, -52690.19, -50315.566, -52242.43, -50945.473, -52350.754, -49979.1, -51115.41]\n",
      "[-180769.14, -171123.12, -162643.67, -150625.31, -140076.75, -126998.35, -112619.66, -96576.516, -86576.945, -80359.26, -79872.72, -74500.95, -73547.96, -67913.48, -69543.39, -64272.52, -61557.074, -57648.637, -56712.426, -58310.242, -55393.24, -56747.95, -60075.92, -53818.21, -55537.71, -51626.508, -57234.605, -52829.145, -52941.766, -55757.367, -52966.004, -52690.19, -50315.566, -52242.43, -50945.473, -52350.754, -49979.1, -51115.41, -50766.637]\n",
      "[-180769.14, -171123.12, -162643.67, -150625.31, -140076.75, -126998.35, -112619.66, -96576.516, -86576.945, -80359.26, -79872.72, -74500.95, -73547.96, -67913.48, -69543.39, -64272.52, -61557.074, -57648.637, -56712.426, -58310.242, -55393.24, -56747.95, -60075.92, -53818.21, -55537.71, -51626.508, -57234.605, -52829.145, -52941.766, -55757.367, -52966.004, -52690.19, -50315.566, -52242.43, -50945.473, -52350.754, -49979.1, -51115.41, -50766.637, -49926.625]\n",
      "[-180769.14, -171123.12, -162643.67, -150625.31, -140076.75, -126998.35, -112619.66, -96576.516, -86576.945, -80359.26, -79872.72, -74500.95, -73547.96, -67913.48, -69543.39, -64272.52, -61557.074, -57648.637, -56712.426, -58310.242, -55393.24, -56747.95, -60075.92, -53818.21, -55537.71, -51626.508, -57234.605, -52829.145, -52941.766, -55757.367, -52966.004, -52690.19, -50315.566, -52242.43, -50945.473, -52350.754, -49979.1, -51115.41, -50766.637, -49926.625, -51786.926]\n",
      "[-180769.14, -171123.12, -162643.67, -150625.31, -140076.75, -126998.35, -112619.66, -96576.516, -86576.945, -80359.26, -79872.72, -74500.95, -73547.96, -67913.48, -69543.39, -64272.52, -61557.074, -57648.637, -56712.426, -58310.242, -55393.24, -56747.95, -60075.92, -53818.21, -55537.71, -51626.508, -57234.605, -52829.145, -52941.766, -55757.367, -52966.004, -52690.19, -50315.566, -52242.43, -50945.473, -52350.754, -49979.1, -51115.41, -50766.637, -49926.625, -51786.926, -50630.016]\n",
      "[-180769.14, -171123.12, -162643.67, -150625.31, -140076.75, -126998.35, -112619.66, -96576.516, -86576.945, -80359.26, -79872.72, -74500.95, -73547.96, -67913.48, -69543.39, -64272.52, -61557.074, -57648.637, -56712.426, -58310.242, -55393.24, -56747.95, -60075.92, -53818.21, -55537.71, -51626.508, -57234.605, -52829.145, -52941.766, -55757.367, -52966.004, -52690.19, -50315.566, -52242.43, -50945.473, -52350.754, -49979.1, -51115.41, -50766.637, -49926.625, -51786.926, -50630.016, -53513.668]\n",
      "[-180769.14, -171123.12, -162643.67, -150625.31, -140076.75, -126998.35, -112619.66, -96576.516, -86576.945, -80359.26, -79872.72, -74500.95, -73547.96, -67913.48, -69543.39, -64272.52, -61557.074, -57648.637, -56712.426, -58310.242, -55393.24, -56747.95, -60075.92, -53818.21, -55537.71, -51626.508, -57234.605, -52829.145, -52941.766, -55757.367, -52966.004, -52690.19, -50315.566, -52242.43, -50945.473, -52350.754, -49979.1, -51115.41, -50766.637, -49926.625, -51786.926, -50630.016, -53513.668, -52595.76]\n",
      "[-180769.14, -171123.12, -162643.67, -150625.31, -140076.75, -126998.35, -112619.66, -96576.516, -86576.945, -80359.26, -79872.72, -74500.95, -73547.96, -67913.48, -69543.39, -64272.52, -61557.074, -57648.637, -56712.426, -58310.242, -55393.24, -56747.95, -60075.92, -53818.21, -55537.71, -51626.508, -57234.605, -52829.145, -52941.766, -55757.367, -52966.004, -52690.19, -50315.566, -52242.43, -50945.473, -52350.754, -49979.1, -51115.41, -50766.637, -49926.625, -51786.926, -50630.016, -53513.668, -52595.76, -51424.71]\n",
      "[-180769.14, -171123.12, -162643.67, -150625.31, -140076.75, -126998.35, -112619.66, -96576.516, -86576.945, -80359.26, -79872.72, -74500.95, -73547.96, -67913.48, -69543.39, -64272.52, -61557.074, -57648.637, -56712.426, -58310.242, -55393.24, -56747.95, -60075.92, -53818.21, -55537.71, -51626.508, -57234.605, -52829.145, -52941.766, -55757.367, -52966.004, -52690.19, -50315.566, -52242.43, -50945.473, -52350.754, -49979.1, -51115.41, -50766.637, -49926.625, -51786.926, -50630.016, -53513.668, -52595.76, -51424.71, -50475.79]\n",
      "[-180769.14, -171123.12, -162643.67, -150625.31, -140076.75, -126998.35, -112619.66, -96576.516, -86576.945, -80359.26, -79872.72, -74500.95, -73547.96, -67913.48, -69543.39, -64272.52, -61557.074, -57648.637, -56712.426, -58310.242, -55393.24, -56747.95, -60075.92, -53818.21, -55537.71, -51626.508, -57234.605, -52829.145, -52941.766, -55757.367, -52966.004, -52690.19, -50315.566, -52242.43, -50945.473, -52350.754, -49979.1, -51115.41, -50766.637, -49926.625, -51786.926, -50630.016, -53513.668, -52595.76, -51424.71, -50475.79, -52376.914]\n",
      "[-180769.14, -171123.12, -162643.67, -150625.31, -140076.75, -126998.35, -112619.66, -96576.516, -86576.945, -80359.26, -79872.72, -74500.95, -73547.96, -67913.48, -69543.39, -64272.52, -61557.074, -57648.637, -56712.426, -58310.242, -55393.24, -56747.95, -60075.92, -53818.21, -55537.71, -51626.508, -57234.605, -52829.145, -52941.766, -55757.367, -52966.004, -52690.19, -50315.566, -52242.43, -50945.473, -52350.754, -49979.1, -51115.41, -50766.637, -49926.625, -51786.926, -50630.016, -53513.668, -52595.76, -51424.71, -50475.79, -52376.914, -49524.53]\n",
      "[-180769.14, -171123.12, -162643.67, -150625.31, -140076.75, -126998.35, -112619.66, -96576.516, -86576.945, -80359.26, -79872.72, -74500.95, -73547.96, -67913.48, -69543.39, -64272.52, -61557.074, -57648.637, -56712.426, -58310.242, -55393.24, -56747.95, -60075.92, -53818.21, -55537.71, -51626.508, -57234.605, -52829.145, -52941.766, -55757.367, -52966.004, -52690.19, -50315.566, -52242.43, -50945.473, -52350.754, -49979.1, -51115.41, -50766.637, -49926.625, -51786.926, -50630.016, -53513.668, -52595.76, -51424.71, -50475.79, -52376.914, -49524.53, -49991.133]\n",
      "[-180769.14, -171123.12, -162643.67, -150625.31, -140076.75, -126998.35, -112619.66, -96576.516, -86576.945, -80359.26, -79872.72, -74500.95, -73547.96, -67913.48, -69543.39, -64272.52, -61557.074, -57648.637, -56712.426, -58310.242, -55393.24, -56747.95, -60075.92, -53818.21, -55537.71, -51626.508, -57234.605, -52829.145, -52941.766, -55757.367, -52966.004, -52690.19, -50315.566, -52242.43, -50945.473, -52350.754, -49979.1, -51115.41, -50766.637, -49926.625, -51786.926, -50630.016, -53513.668, -52595.76, -51424.71, -50475.79, -52376.914, -49524.53, -49991.133, -50718.324]\n",
      "[-180769.14, -171123.12, -162643.67, -150625.31, -140076.75, -126998.35, -112619.66, -96576.516, -86576.945, -80359.26, -79872.72, -74500.95, -73547.96, -67913.48, -69543.39, -64272.52, -61557.074, -57648.637, -56712.426, -58310.242, -55393.24, -56747.95, -60075.92, -53818.21, -55537.71, -51626.508, -57234.605, -52829.145, -52941.766, -55757.367, -52966.004, -52690.19, -50315.566, -52242.43, -50945.473, -52350.754, -49979.1, -51115.41, -50766.637, -49926.625, -51786.926, -50630.016, -53513.668, -52595.76, -51424.71, -50475.79, -52376.914, -49524.53, -49991.133, -50718.324, -49997.555]\n",
      "[-180769.14, -171123.12, -162643.67, -150625.31, -140076.75, -126998.35, -112619.66, -96576.516, -86576.945, -80359.26, -79872.72, -74500.95, -73547.96, -67913.48, -69543.39, -64272.52, -61557.074, -57648.637, -56712.426, -58310.242, -55393.24, -56747.95, -60075.92, -53818.21, -55537.71, -51626.508, -57234.605, -52829.145, -52941.766, -55757.367, -52966.004, -52690.19, -50315.566, -52242.43, -50945.473, -52350.754, -49979.1, -51115.41, -50766.637, -49926.625, -51786.926, -50630.016, -53513.668, -52595.76, -51424.71, -50475.79, -52376.914, -49524.53, -49991.133, -50718.324, -49997.555, -50390.84]\n",
      "[-180769.14, -171123.12, -162643.67, -150625.31, -140076.75, -126998.35, -112619.66, -96576.516, -86576.945, -80359.26, -79872.72, -74500.95, -73547.96, -67913.48, -69543.39, -64272.52, -61557.074, -57648.637, -56712.426, -58310.242, -55393.24, -56747.95, -60075.92, -53818.21, -55537.71, -51626.508, -57234.605, -52829.145, -52941.766, -55757.367, -52966.004, -52690.19, -50315.566, -52242.43, -50945.473, -52350.754, -49979.1, -51115.41, -50766.637, -49926.625, -51786.926, -50630.016, -53513.668, -52595.76, -51424.71, -50475.79, -52376.914, -49524.53, -49991.133, -50718.324, -49997.555, -50390.84, -50441.953]\n"
     ]
    },
    {
     "name": "stdout",
     "output_type": "stream",
     "text": [
      "[-180769.14, -171123.12, -162643.67, -150625.31, -140076.75, -126998.35, -112619.66, -96576.516, -86576.945, -80359.26, -79872.72, -74500.95, -73547.96, -67913.48, -69543.39, -64272.52, -61557.074, -57648.637, -56712.426, -58310.242, -55393.24, -56747.95, -60075.92, -53818.21, -55537.71, -51626.508, -57234.605, -52829.145, -52941.766, -55757.367, -52966.004, -52690.19, -50315.566, -52242.43, -50945.473, -52350.754, -49979.1, -51115.41, -50766.637, -49926.625, -51786.926, -50630.016, -53513.668, -52595.76, -51424.71, -50475.79, -52376.914, -49524.53, -49991.133, -50718.324, -49997.555, -50390.84, -50441.953, -50088.34]\n",
      "[-180769.14, -171123.12, -162643.67, -150625.31, -140076.75, -126998.35, -112619.66, -96576.516, -86576.945, -80359.26, -79872.72, -74500.95, -73547.96, -67913.48, -69543.39, -64272.52, -61557.074, -57648.637, -56712.426, -58310.242, -55393.24, -56747.95, -60075.92, -53818.21, -55537.71, -51626.508, -57234.605, -52829.145, -52941.766, -55757.367, -52966.004, -52690.19, -50315.566, -52242.43, -50945.473, -52350.754, -49979.1, -51115.41, -50766.637, -49926.625, -51786.926, -50630.016, -53513.668, -52595.76, -51424.71, -50475.79, -52376.914, -49524.53, -49991.133, -50718.324, -49997.555, -50390.84, -50441.953, -50088.34, -51750.363]\n",
      "[-180769.14, -171123.12, -162643.67, -150625.31, -140076.75, -126998.35, -112619.66, -96576.516, -86576.945, -80359.26, -79872.72, -74500.95, -73547.96, -67913.48, -69543.39, -64272.52, -61557.074, -57648.637, -56712.426, -58310.242, -55393.24, -56747.95, -60075.92, -53818.21, -55537.71, -51626.508, -57234.605, -52829.145, -52941.766, -55757.367, -52966.004, -52690.19, -50315.566, -52242.43, -50945.473, -52350.754, -49979.1, -51115.41, -50766.637, -49926.625, -51786.926, -50630.016, -53513.668, -52595.76, -51424.71, -50475.79, -52376.914, -49524.53, -49991.133, -50718.324, -49997.555, -50390.84, -50441.953, -50088.34, -51750.363, -49692.76]\n",
      "[-180769.14, -171123.12, -162643.67, -150625.31, -140076.75, -126998.35, -112619.66, -96576.516, -86576.945, -80359.26, -79872.72, -74500.95, -73547.96, -67913.48, -69543.39, -64272.52, -61557.074, -57648.637, -56712.426, -58310.242, -55393.24, -56747.95, -60075.92, -53818.21, -55537.71, -51626.508, -57234.605, -52829.145, -52941.766, -55757.367, -52966.004, -52690.19, -50315.566, -52242.43, -50945.473, -52350.754, -49979.1, -51115.41, -50766.637, -49926.625, -51786.926, -50630.016, -53513.668, -52595.76, -51424.71, -50475.79, -52376.914, -49524.53, -49991.133, -50718.324, -49997.555, -50390.84, -50441.953, -50088.34, -51750.363, -49692.76, -49287.625]\n",
      "[-180769.14, -171123.12, -162643.67, -150625.31, -140076.75, -126998.35, -112619.66, -96576.516, -86576.945, -80359.26, -79872.72, -74500.95, -73547.96, -67913.48, -69543.39, -64272.52, -61557.074, -57648.637, -56712.426, -58310.242, -55393.24, -56747.95, -60075.92, -53818.21, -55537.71, -51626.508, -57234.605, -52829.145, -52941.766, -55757.367, -52966.004, -52690.19, -50315.566, -52242.43, -50945.473, -52350.754, -49979.1, -51115.41, -50766.637, -49926.625, -51786.926, -50630.016, -53513.668, -52595.76, -51424.71, -50475.79, -52376.914, -49524.53, -49991.133, -50718.324, -49997.555, -50390.84, -50441.953, -50088.34, -51750.363, -49692.76, -49287.625, -49843.55]\n",
      "[-180769.14, -171123.12, -162643.67, -150625.31, -140076.75, -126998.35, -112619.66, -96576.516, -86576.945, -80359.26, -79872.72, -74500.95, -73547.96, -67913.48, -69543.39, -64272.52, -61557.074, -57648.637, -56712.426, -58310.242, -55393.24, -56747.95, -60075.92, -53818.21, -55537.71, -51626.508, -57234.605, -52829.145, -52941.766, -55757.367, -52966.004, -52690.19, -50315.566, -52242.43, -50945.473, -52350.754, -49979.1, -51115.41, -50766.637, -49926.625, -51786.926, -50630.016, -53513.668, -52595.76, -51424.71, -50475.79, -52376.914, -49524.53, -49991.133, -50718.324, -49997.555, -50390.84, -50441.953, -50088.34, -51750.363, -49692.76, -49287.625, -49843.55, -49674.223]\n",
      "[-180769.14, -171123.12, -162643.67, -150625.31, -140076.75, -126998.35, -112619.66, -96576.516, -86576.945, -80359.26, -79872.72, -74500.95, -73547.96, -67913.48, -69543.39, -64272.52, -61557.074, -57648.637, -56712.426, -58310.242, -55393.24, -56747.95, -60075.92, -53818.21, -55537.71, -51626.508, -57234.605, -52829.145, -52941.766, -55757.367, -52966.004, -52690.19, -50315.566, -52242.43, -50945.473, -52350.754, -49979.1, -51115.41, -50766.637, -49926.625, -51786.926, -50630.016, -53513.668, -52595.76, -51424.71, -50475.79, -52376.914, -49524.53, -49991.133, -50718.324, -49997.555, -50390.84, -50441.953, -50088.34, -51750.363, -49692.76, -49287.625, -49843.55, -49674.223, -50124.156]\n",
      "[-180769.14, -171123.12, -162643.67, -150625.31, -140076.75, -126998.35, -112619.66, -96576.516, -86576.945, -80359.26, -79872.72, -74500.95, -73547.96, -67913.48, -69543.39, -64272.52, -61557.074, -57648.637, -56712.426, -58310.242, -55393.24, -56747.95, -60075.92, -53818.21, -55537.71, -51626.508, -57234.605, -52829.145, -52941.766, -55757.367, -52966.004, -52690.19, -50315.566, -52242.43, -50945.473, -52350.754, -49979.1, -51115.41, -50766.637, -49926.625, -51786.926, -50630.016, -53513.668, -52595.76, -51424.71, -50475.79, -52376.914, -49524.53, -49991.133, -50718.324, -49997.555, -50390.84, -50441.953, -50088.34, -51750.363, -49692.76, -49287.625, -49843.55, -49674.223, -50124.156, -49412.703]\n",
      "[-180769.14, -171123.12, -162643.67, -150625.31, -140076.75, -126998.35, -112619.66, -96576.516, -86576.945, -80359.26, -79872.72, -74500.95, -73547.96, -67913.48, -69543.39, -64272.52, -61557.074, -57648.637, -56712.426, -58310.242, -55393.24, -56747.95, -60075.92, -53818.21, -55537.71, -51626.508, -57234.605, -52829.145, -52941.766, -55757.367, -52966.004, -52690.19, -50315.566, -52242.43, -50945.473, -52350.754, -49979.1, -51115.41, -50766.637, -49926.625, -51786.926, -50630.016, -53513.668, -52595.76, -51424.71, -50475.79, -52376.914, -49524.53, -49991.133, -50718.324, -49997.555, -50390.84, -50441.953, -50088.34, -51750.363, -49692.76, -49287.625, -49843.55, -49674.223, -50124.156, -49412.703, -50853.504]\n",
      "[-180769.14, -171123.12, -162643.67, -150625.31, -140076.75, -126998.35, -112619.66, -96576.516, -86576.945, -80359.26, -79872.72, -74500.95, -73547.96, -67913.48, -69543.39, -64272.52, -61557.074, -57648.637, -56712.426, -58310.242, -55393.24, -56747.95, -60075.92, -53818.21, -55537.71, -51626.508, -57234.605, -52829.145, -52941.766, -55757.367, -52966.004, -52690.19, -50315.566, -52242.43, -50945.473, -52350.754, -49979.1, -51115.41, -50766.637, -49926.625, -51786.926, -50630.016, -53513.668, -52595.76, -51424.71, -50475.79, -52376.914, -49524.53, -49991.133, -50718.324, -49997.555, -50390.84, -50441.953, -50088.34, -51750.363, -49692.76, -49287.625, -49843.55, -49674.223, -50124.156, -49412.703, -50853.504, -49569.305]\n",
      "[-180769.14, -171123.12, -162643.67, -150625.31, -140076.75, -126998.35, -112619.66, -96576.516, -86576.945, -80359.26, -79872.72, -74500.95, -73547.96, -67913.48, -69543.39, -64272.52, -61557.074, -57648.637, -56712.426, -58310.242, -55393.24, -56747.95, -60075.92, -53818.21, -55537.71, -51626.508, -57234.605, -52829.145, -52941.766, -55757.367, -52966.004, -52690.19, -50315.566, -52242.43, -50945.473, -52350.754, -49979.1, -51115.41, -50766.637, -49926.625, -51786.926, -50630.016, -53513.668, -52595.76, -51424.71, -50475.79, -52376.914, -49524.53, -49991.133, -50718.324, -49997.555, -50390.84, -50441.953, -50088.34, -51750.363, -49692.76, -49287.625, -49843.55, -49674.223, -50124.156, -49412.703, -50853.504, -49569.305, -49420.42]\n",
      "[-180769.14, -171123.12, -162643.67, -150625.31, -140076.75, -126998.35, -112619.66, -96576.516, -86576.945, -80359.26, -79872.72, -74500.95, -73547.96, -67913.48, -69543.39, -64272.52, -61557.074, -57648.637, -56712.426, -58310.242, -55393.24, -56747.95, -60075.92, -53818.21, -55537.71, -51626.508, -57234.605, -52829.145, -52941.766, -55757.367, -52966.004, -52690.19, -50315.566, -52242.43, -50945.473, -52350.754, -49979.1, -51115.41, -50766.637, -49926.625, -51786.926, -50630.016, -53513.668, -52595.76, -51424.71, -50475.79, -52376.914, -49524.53, -49991.133, -50718.324, -49997.555, -50390.84, -50441.953, -50088.34, -51750.363, -49692.76, -49287.625, -49843.55, -49674.223, -50124.156, -49412.703, -50853.504, -49569.305, -49420.42, -49278.926]\n"
     ]
    },
    {
     "name": "stdout",
     "output_type": "stream",
     "text": [
      "[-180769.14, -171123.12, -162643.67, -150625.31, -140076.75, -126998.35, -112619.66, -96576.516, -86576.945, -80359.26, -79872.72, -74500.95, -73547.96, -67913.48, -69543.39, -64272.52, -61557.074, -57648.637, -56712.426, -58310.242, -55393.24, -56747.95, -60075.92, -53818.21, -55537.71, -51626.508, -57234.605, -52829.145, -52941.766, -55757.367, -52966.004, -52690.19, -50315.566, -52242.43, -50945.473, -52350.754, -49979.1, -51115.41, -50766.637, -49926.625, -51786.926, -50630.016, -53513.668, -52595.76, -51424.71, -50475.79, -52376.914, -49524.53, -49991.133, -50718.324, -49997.555, -50390.84, -50441.953, -50088.34, -51750.363, -49692.76, -49287.625, -49843.55, -49674.223, -50124.156, -49412.703, -50853.504, -49569.305, -49420.42, -49278.926, -48958.516]\n",
      "[-180769.14, -171123.12, -162643.67, -150625.31, -140076.75, -126998.35, -112619.66, -96576.516, -86576.945, -80359.26, -79872.72, -74500.95, -73547.96, -67913.48, -69543.39, -64272.52, -61557.074, -57648.637, -56712.426, -58310.242, -55393.24, -56747.95, -60075.92, -53818.21, -55537.71, -51626.508, -57234.605, -52829.145, -52941.766, -55757.367, -52966.004, -52690.19, -50315.566, -52242.43, -50945.473, -52350.754, -49979.1, -51115.41, -50766.637, -49926.625, -51786.926, -50630.016, -53513.668, -52595.76, -51424.71, -50475.79, -52376.914, -49524.53, -49991.133, -50718.324, -49997.555, -50390.84, -50441.953, -50088.34, -51750.363, -49692.76, -49287.625, -49843.55, -49674.223, -50124.156, -49412.703, -50853.504, -49569.305, -49420.42, -49278.926, -48958.516, -48383.31]\n",
      "[-180769.14, -171123.12, -162643.67, -150625.31, -140076.75, -126998.35, -112619.66, -96576.516, -86576.945, -80359.26, -79872.72, -74500.95, -73547.96, -67913.48, -69543.39, -64272.52, -61557.074, -57648.637, -56712.426, -58310.242, -55393.24, -56747.95, -60075.92, -53818.21, -55537.71, -51626.508, -57234.605, -52829.145, -52941.766, -55757.367, -52966.004, -52690.19, -50315.566, -52242.43, -50945.473, -52350.754, -49979.1, -51115.41, -50766.637, -49926.625, -51786.926, -50630.016, -53513.668, -52595.76, -51424.71, -50475.79, -52376.914, -49524.53, -49991.133, -50718.324, -49997.555, -50390.84, -50441.953, -50088.34, -51750.363, -49692.76, -49287.625, -49843.55, -49674.223, -50124.156, -49412.703, -50853.504, -49569.305, -49420.42, -49278.926, -48958.516, -48383.31, -48765.9]\n",
      "[-180769.14, -171123.12, -162643.67, -150625.31, -140076.75, -126998.35, -112619.66, -96576.516, -86576.945, -80359.26, -79872.72, -74500.95, -73547.96, -67913.48, -69543.39, -64272.52, -61557.074, -57648.637, -56712.426, -58310.242, -55393.24, -56747.95, -60075.92, -53818.21, -55537.71, -51626.508, -57234.605, -52829.145, -52941.766, -55757.367, -52966.004, -52690.19, -50315.566, -52242.43, -50945.473, -52350.754, -49979.1, -51115.41, -50766.637, -49926.625, -51786.926, -50630.016, -53513.668, -52595.76, -51424.71, -50475.79, -52376.914, -49524.53, -49991.133, -50718.324, -49997.555, -50390.84, -50441.953, -50088.34, -51750.363, -49692.76, -49287.625, -49843.55, -49674.223, -50124.156, -49412.703, -50853.504, -49569.305, -49420.42, -49278.926, -48958.516, -48383.31, -48765.9, -48329.24]\n",
      "[-180769.14, -171123.12, -162643.67, -150625.31, -140076.75, -126998.35, -112619.66, -96576.516, -86576.945, -80359.26, -79872.72, -74500.95, -73547.96, -67913.48, -69543.39, -64272.52, -61557.074, -57648.637, -56712.426, -58310.242, -55393.24, -56747.95, -60075.92, -53818.21, -55537.71, -51626.508, -57234.605, -52829.145, -52941.766, -55757.367, -52966.004, -52690.19, -50315.566, -52242.43, -50945.473, -52350.754, -49979.1, -51115.41, -50766.637, -49926.625, -51786.926, -50630.016, -53513.668, -52595.76, -51424.71, -50475.79, -52376.914, -49524.53, -49991.133, -50718.324, -49997.555, -50390.84, -50441.953, -50088.34, -51750.363, -49692.76, -49287.625, -49843.55, -49674.223, -50124.156, -49412.703, -50853.504, -49569.305, -49420.42, -49278.926, -48958.516, -48383.31, -48765.9, -48329.24, -49034.42]\n",
      "[-180769.14, -171123.12, -162643.67, -150625.31, -140076.75, -126998.35, -112619.66, -96576.516, -86576.945, -80359.26, -79872.72, -74500.95, -73547.96, -67913.48, -69543.39, -64272.52, -61557.074, -57648.637, -56712.426, -58310.242, -55393.24, -56747.95, -60075.92, -53818.21, -55537.71, -51626.508, -57234.605, -52829.145, -52941.766, -55757.367, -52966.004, -52690.19, -50315.566, -52242.43, -50945.473, -52350.754, -49979.1, -51115.41, -50766.637, -49926.625, -51786.926, -50630.016, -53513.668, -52595.76, -51424.71, -50475.79, -52376.914, -49524.53, -49991.133, -50718.324, -49997.555, -50390.84, -50441.953, -50088.34, -51750.363, -49692.76, -49287.625, -49843.55, -49674.223, -50124.156, -49412.703, -50853.504, -49569.305, -49420.42, -49278.926, -48958.516, -48383.31, -48765.9, -48329.24, -49034.42, -48734.207]\n",
      "[-180769.14, -171123.12, -162643.67, -150625.31, -140076.75, -126998.35, -112619.66, -96576.516, -86576.945, -80359.26, -79872.72, -74500.95, -73547.96, -67913.48, -69543.39, -64272.52, -61557.074, -57648.637, -56712.426, -58310.242, -55393.24, -56747.95, -60075.92, -53818.21, -55537.71, -51626.508, -57234.605, -52829.145, -52941.766, -55757.367, -52966.004, -52690.19, -50315.566, -52242.43, -50945.473, -52350.754, -49979.1, -51115.41, -50766.637, -49926.625, -51786.926, -50630.016, -53513.668, -52595.76, -51424.71, -50475.79, -52376.914, -49524.53, -49991.133, -50718.324, -49997.555, -50390.84, -50441.953, -50088.34, -51750.363, -49692.76, -49287.625, -49843.55, -49674.223, -50124.156, -49412.703, -50853.504, -49569.305, -49420.42, -49278.926, -48958.516, -48383.31, -48765.9, -48329.24, -49034.42, -48734.207, -49804.24]\n",
      "[-180769.14, -171123.12, -162643.67, -150625.31, -140076.75, -126998.35, -112619.66, -96576.516, -86576.945, -80359.26, -79872.72, -74500.95, -73547.96, -67913.48, -69543.39, -64272.52, -61557.074, -57648.637, -56712.426, -58310.242, -55393.24, -56747.95, -60075.92, -53818.21, -55537.71, -51626.508, -57234.605, -52829.145, -52941.766, -55757.367, -52966.004, -52690.19, -50315.566, -52242.43, -50945.473, -52350.754, -49979.1, -51115.41, -50766.637, -49926.625, -51786.926, -50630.016, -53513.668, -52595.76, -51424.71, -50475.79, -52376.914, -49524.53, -49991.133, -50718.324, -49997.555, -50390.84, -50441.953, -50088.34, -51750.363, -49692.76, -49287.625, -49843.55, -49674.223, -50124.156, -49412.703, -50853.504, -49569.305, -49420.42, -49278.926, -48958.516, -48383.31, -48765.9, -48329.24, -49034.42, -48734.207, -49804.24, -49409.29]\n",
      "[-180769.14, -171123.12, -162643.67, -150625.31, -140076.75, -126998.35, -112619.66, -96576.516, -86576.945, -80359.26, -79872.72, -74500.95, -73547.96, -67913.48, -69543.39, -64272.52, -61557.074, -57648.637, -56712.426, -58310.242, -55393.24, -56747.95, -60075.92, -53818.21, -55537.71, -51626.508, -57234.605, -52829.145, -52941.766, -55757.367, -52966.004, -52690.19, -50315.566, -52242.43, -50945.473, -52350.754, -49979.1, -51115.41, -50766.637, -49926.625, -51786.926, -50630.016, -53513.668, -52595.76, -51424.71, -50475.79, -52376.914, -49524.53, -49991.133, -50718.324, -49997.555, -50390.84, -50441.953, -50088.34, -51750.363, -49692.76, -49287.625, -49843.55, -49674.223, -50124.156, -49412.703, -50853.504, -49569.305, -49420.42, -49278.926, -48958.516, -48383.31, -48765.9, -48329.24, -49034.42, -48734.207, -49804.24, -49409.29, -49897.1]\n",
      "[-180769.14, -171123.12, -162643.67, -150625.31, -140076.75, -126998.35, -112619.66, -96576.516, -86576.945, -80359.26, -79872.72, -74500.95, -73547.96, -67913.48, -69543.39, -64272.52, -61557.074, -57648.637, -56712.426, -58310.242, -55393.24, -56747.95, -60075.92, -53818.21, -55537.71, -51626.508, -57234.605, -52829.145, -52941.766, -55757.367, -52966.004, -52690.19, -50315.566, -52242.43, -50945.473, -52350.754, -49979.1, -51115.41, -50766.637, -49926.625, -51786.926, -50630.016, -53513.668, -52595.76, -51424.71, -50475.79, -52376.914, -49524.53, -49991.133, -50718.324, -49997.555, -50390.84, -50441.953, -50088.34, -51750.363, -49692.76, -49287.625, -49843.55, -49674.223, -50124.156, -49412.703, -50853.504, -49569.305, -49420.42, -49278.926, -48958.516, -48383.31, -48765.9, -48329.24, -49034.42, -48734.207, -49804.24, -49409.29, -49897.1, -49441.99]\n",
      "[-180769.14, -171123.12, -162643.67, -150625.31, -140076.75, -126998.35, -112619.66, -96576.516, -86576.945, -80359.26, -79872.72, -74500.95, -73547.96, -67913.48, -69543.39, -64272.52, -61557.074, -57648.637, -56712.426, -58310.242, -55393.24, -56747.95, -60075.92, -53818.21, -55537.71, -51626.508, -57234.605, -52829.145, -52941.766, -55757.367, -52966.004, -52690.19, -50315.566, -52242.43, -50945.473, -52350.754, -49979.1, -51115.41, -50766.637, -49926.625, -51786.926, -50630.016, -53513.668, -52595.76, -51424.71, -50475.79, -52376.914, -49524.53, -49991.133, -50718.324, -49997.555, -50390.84, -50441.953, -50088.34, -51750.363, -49692.76, -49287.625, -49843.55, -49674.223, -50124.156, -49412.703, -50853.504, -49569.305, -49420.42, -49278.926, -48958.516, -48383.31, -48765.9, -48329.24, -49034.42, -48734.207, -49804.24, -49409.29, -49897.1, -49441.99, -48940.234]\n"
     ]
    },
    {
     "name": "stdout",
     "output_type": "stream",
     "text": [
      "[-180769.14, -171123.12, -162643.67, -150625.31, -140076.75, -126998.35, -112619.66, -96576.516, -86576.945, -80359.26, -79872.72, -74500.95, -73547.96, -67913.48, -69543.39, -64272.52, -61557.074, -57648.637, -56712.426, -58310.242, -55393.24, -56747.95, -60075.92, -53818.21, -55537.71, -51626.508, -57234.605, -52829.145, -52941.766, -55757.367, -52966.004, -52690.19, -50315.566, -52242.43, -50945.473, -52350.754, -49979.1, -51115.41, -50766.637, -49926.625, -51786.926, -50630.016, -53513.668, -52595.76, -51424.71, -50475.79, -52376.914, -49524.53, -49991.133, -50718.324, -49997.555, -50390.84, -50441.953, -50088.34, -51750.363, -49692.76, -49287.625, -49843.55, -49674.223, -50124.156, -49412.703, -50853.504, -49569.305, -49420.42, -49278.926, -48958.516, -48383.31, -48765.9, -48329.24, -49034.42, -48734.207, -49804.24, -49409.29, -49897.1, -49441.99, -48940.234, -48777.816]\n",
      "[-180769.14, -171123.12, -162643.67, -150625.31, -140076.75, -126998.35, -112619.66, -96576.516, -86576.945, -80359.26, -79872.72, -74500.95, -73547.96, -67913.48, -69543.39, -64272.52, -61557.074, -57648.637, -56712.426, -58310.242, -55393.24, -56747.95, -60075.92, -53818.21, -55537.71, -51626.508, -57234.605, -52829.145, -52941.766, -55757.367, -52966.004, -52690.19, -50315.566, -52242.43, -50945.473, -52350.754, -49979.1, -51115.41, -50766.637, -49926.625, -51786.926, -50630.016, -53513.668, -52595.76, -51424.71, -50475.79, -52376.914, -49524.53, -49991.133, -50718.324, -49997.555, -50390.84, -50441.953, -50088.34, -51750.363, -49692.76, -49287.625, -49843.55, -49674.223, -50124.156, -49412.703, -50853.504, -49569.305, -49420.42, -49278.926, -48958.516, -48383.31, -48765.9, -48329.24, -49034.42, -48734.207, -49804.24, -49409.29, -49897.1, -49441.99, -48940.234, -48777.816, -48338.7]\n",
      "[-180769.14, -171123.12, -162643.67, -150625.31, -140076.75, -126998.35, -112619.66, -96576.516, -86576.945, -80359.26, -79872.72, -74500.95, -73547.96, -67913.48, -69543.39, -64272.52, -61557.074, -57648.637, -56712.426, -58310.242, -55393.24, -56747.95, -60075.92, -53818.21, -55537.71, -51626.508, -57234.605, -52829.145, -52941.766, -55757.367, -52966.004, -52690.19, -50315.566, -52242.43, -50945.473, -52350.754, -49979.1, -51115.41, -50766.637, -49926.625, -51786.926, -50630.016, -53513.668, -52595.76, -51424.71, -50475.79, -52376.914, -49524.53, -49991.133, -50718.324, -49997.555, -50390.84, -50441.953, -50088.34, -51750.363, -49692.76, -49287.625, -49843.55, -49674.223, -50124.156, -49412.703, -50853.504, -49569.305, -49420.42, -49278.926, -48958.516, -48383.31, -48765.9, -48329.24, -49034.42, -48734.207, -49804.24, -49409.29, -49897.1, -49441.99, -48940.234, -48777.816, -48338.7, -48708.438]\n",
      "[-180769.14, -171123.12, -162643.67, -150625.31, -140076.75, -126998.35, -112619.66, -96576.516, -86576.945, -80359.26, -79872.72, -74500.95, -73547.96, -67913.48, -69543.39, -64272.52, -61557.074, -57648.637, -56712.426, -58310.242, -55393.24, -56747.95, -60075.92, -53818.21, -55537.71, -51626.508, -57234.605, -52829.145, -52941.766, -55757.367, -52966.004, -52690.19, -50315.566, -52242.43, -50945.473, -52350.754, -49979.1, -51115.41, -50766.637, -49926.625, -51786.926, -50630.016, -53513.668, -52595.76, -51424.71, -50475.79, -52376.914, -49524.53, -49991.133, -50718.324, -49997.555, -50390.84, -50441.953, -50088.34, -51750.363, -49692.76, -49287.625, -49843.55, -49674.223, -50124.156, -49412.703, -50853.504, -49569.305, -49420.42, -49278.926, -48958.516, -48383.31, -48765.9, -48329.24, -49034.42, -48734.207, -49804.24, -49409.29, -49897.1, -49441.99, -48940.234, -48777.816, -48338.7, -48708.438, -48666.387]\n",
      "[-180769.14, -171123.12, -162643.67, -150625.31, -140076.75, -126998.35, -112619.66, -96576.516, -86576.945, -80359.26, -79872.72, -74500.95, -73547.96, -67913.48, -69543.39, -64272.52, -61557.074, -57648.637, -56712.426, -58310.242, -55393.24, -56747.95, -60075.92, -53818.21, -55537.71, -51626.508, -57234.605, -52829.145, -52941.766, -55757.367, -52966.004, -52690.19, -50315.566, -52242.43, -50945.473, -52350.754, -49979.1, -51115.41, -50766.637, -49926.625, -51786.926, -50630.016, -53513.668, -52595.76, -51424.71, -50475.79, -52376.914, -49524.53, -49991.133, -50718.324, -49997.555, -50390.84, -50441.953, -50088.34, -51750.363, -49692.76, -49287.625, -49843.55, -49674.223, -50124.156, -49412.703, -50853.504, -49569.305, -49420.42, -49278.926, -48958.516, -48383.31, -48765.9, -48329.24, -49034.42, -48734.207, -49804.24, -49409.29, -49897.1, -49441.99, -48940.234, -48777.816, -48338.7, -48708.438, -48666.387, -49041.53]\n",
      "[-180769.14, -171123.12, -162643.67, -150625.31, -140076.75, -126998.35, -112619.66, -96576.516, -86576.945, -80359.26, -79872.72, -74500.95, -73547.96, -67913.48, -69543.39, -64272.52, -61557.074, -57648.637, -56712.426, -58310.242, -55393.24, -56747.95, -60075.92, -53818.21, -55537.71, -51626.508, -57234.605, -52829.145, -52941.766, -55757.367, -52966.004, -52690.19, -50315.566, -52242.43, -50945.473, -52350.754, -49979.1, -51115.41, -50766.637, -49926.625, -51786.926, -50630.016, -53513.668, -52595.76, -51424.71, -50475.79, -52376.914, -49524.53, -49991.133, -50718.324, -49997.555, -50390.84, -50441.953, -50088.34, -51750.363, -49692.76, -49287.625, -49843.55, -49674.223, -50124.156, -49412.703, -50853.504, -49569.305, -49420.42, -49278.926, -48958.516, -48383.31, -48765.9, -48329.24, -49034.42, -48734.207, -49804.24, -49409.29, -49897.1, -49441.99, -48940.234, -48777.816, -48338.7, -48708.438, -48666.387, -49041.53, -49057.312]\n",
      "[-180769.14, -171123.12, -162643.67, -150625.31, -140076.75, -126998.35, -112619.66, -96576.516, -86576.945, -80359.26, -79872.72, -74500.95, -73547.96, -67913.48, -69543.39, -64272.52, -61557.074, -57648.637, -56712.426, -58310.242, -55393.24, -56747.95, -60075.92, -53818.21, -55537.71, -51626.508, -57234.605, -52829.145, -52941.766, -55757.367, -52966.004, -52690.19, -50315.566, -52242.43, -50945.473, -52350.754, -49979.1, -51115.41, -50766.637, -49926.625, -51786.926, -50630.016, -53513.668, -52595.76, -51424.71, -50475.79, -52376.914, -49524.53, -49991.133, -50718.324, -49997.555, -50390.84, -50441.953, -50088.34, -51750.363, -49692.76, -49287.625, -49843.55, -49674.223, -50124.156, -49412.703, -50853.504, -49569.305, -49420.42, -49278.926, -48958.516, -48383.31, -48765.9, -48329.24, -49034.42, -48734.207, -49804.24, -49409.29, -49897.1, -49441.99, -48940.234, -48777.816, -48338.7, -48708.438, -48666.387, -49041.53, -49057.312, -49529.81]\n",
      "[-180769.14, -171123.12, -162643.67, -150625.31, -140076.75, -126998.35, -112619.66, -96576.516, -86576.945, -80359.26, -79872.72, -74500.95, -73547.96, -67913.48, -69543.39, -64272.52, -61557.074, -57648.637, -56712.426, -58310.242, -55393.24, -56747.95, -60075.92, -53818.21, -55537.71, -51626.508, -57234.605, -52829.145, -52941.766, -55757.367, -52966.004, -52690.19, -50315.566, -52242.43, -50945.473, -52350.754, -49979.1, -51115.41, -50766.637, -49926.625, -51786.926, -50630.016, -53513.668, -52595.76, -51424.71, -50475.79, -52376.914, -49524.53, -49991.133, -50718.324, -49997.555, -50390.84, -50441.953, -50088.34, -51750.363, -49692.76, -49287.625, -49843.55, -49674.223, -50124.156, -49412.703, -50853.504, -49569.305, -49420.42, -49278.926, -48958.516, -48383.31, -48765.9, -48329.24, -49034.42, -48734.207, -49804.24, -49409.29, -49897.1, -49441.99, -48940.234, -48777.816, -48338.7, -48708.438, -48666.387, -49041.53, -49057.312, -49529.81, -48691.695]\n",
      "[-180769.14, -171123.12, -162643.67, -150625.31, -140076.75, -126998.35, -112619.66, -96576.516, -86576.945, -80359.26, -79872.72, -74500.95, -73547.96, -67913.48, -69543.39, -64272.52, -61557.074, -57648.637, -56712.426, -58310.242, -55393.24, -56747.95, -60075.92, -53818.21, -55537.71, -51626.508, -57234.605, -52829.145, -52941.766, -55757.367, -52966.004, -52690.19, -50315.566, -52242.43, -50945.473, -52350.754, -49979.1, -51115.41, -50766.637, -49926.625, -51786.926, -50630.016, -53513.668, -52595.76, -51424.71, -50475.79, -52376.914, -49524.53, -49991.133, -50718.324, -49997.555, -50390.84, -50441.953, -50088.34, -51750.363, -49692.76, -49287.625, -49843.55, -49674.223, -50124.156, -49412.703, -50853.504, -49569.305, -49420.42, -49278.926, -48958.516, -48383.31, -48765.9, -48329.24, -49034.42, -48734.207, -49804.24, -49409.29, -49897.1, -49441.99, -48940.234, -48777.816, -48338.7, -48708.438, -48666.387, -49041.53, -49057.312, -49529.81, -48691.695, -48837.285]\n"
     ]
    },
    {
     "name": "stdout",
     "output_type": "stream",
     "text": [
      "[-180769.14, -171123.12, -162643.67, -150625.31, -140076.75, -126998.35, -112619.66, -96576.516, -86576.945, -80359.26, -79872.72, -74500.95, -73547.96, -67913.48, -69543.39, -64272.52, -61557.074, -57648.637, -56712.426, -58310.242, -55393.24, -56747.95, -60075.92, -53818.21, -55537.71, -51626.508, -57234.605, -52829.145, -52941.766, -55757.367, -52966.004, -52690.19, -50315.566, -52242.43, -50945.473, -52350.754, -49979.1, -51115.41, -50766.637, -49926.625, -51786.926, -50630.016, -53513.668, -52595.76, -51424.71, -50475.79, -52376.914, -49524.53, -49991.133, -50718.324, -49997.555, -50390.84, -50441.953, -50088.34, -51750.363, -49692.76, -49287.625, -49843.55, -49674.223, -50124.156, -49412.703, -50853.504, -49569.305, -49420.42, -49278.926, -48958.516, -48383.31, -48765.9, -48329.24, -49034.42, -48734.207, -49804.24, -49409.29, -49897.1, -49441.99, -48940.234, -48777.816, -48338.7, -48708.438, -48666.387, -49041.53, -49057.312, -49529.81, -48691.695, -48837.285, -48962.83]\n",
      "[-180769.14, -171123.12, -162643.67, -150625.31, -140076.75, -126998.35, -112619.66, -96576.516, -86576.945, -80359.26, -79872.72, -74500.95, -73547.96, -67913.48, -69543.39, -64272.52, -61557.074, -57648.637, -56712.426, -58310.242, -55393.24, -56747.95, -60075.92, -53818.21, -55537.71, -51626.508, -57234.605, -52829.145, -52941.766, -55757.367, -52966.004, -52690.19, -50315.566, -52242.43, -50945.473, -52350.754, -49979.1, -51115.41, -50766.637, -49926.625, -51786.926, -50630.016, -53513.668, -52595.76, -51424.71, -50475.79, -52376.914, -49524.53, -49991.133, -50718.324, -49997.555, -50390.84, -50441.953, -50088.34, -51750.363, -49692.76, -49287.625, -49843.55, -49674.223, -50124.156, -49412.703, -50853.504, -49569.305, -49420.42, -49278.926, -48958.516, -48383.31, -48765.9, -48329.24, -49034.42, -48734.207, -49804.24, -49409.29, -49897.1, -49441.99, -48940.234, -48777.816, -48338.7, -48708.438, -48666.387, -49041.53, -49057.312, -49529.81, -48691.695, -48837.285, -48962.83, -48999.97]\n",
      "[-180769.14, -171123.12, -162643.67, -150625.31, -140076.75, -126998.35, -112619.66, -96576.516, -86576.945, -80359.26, -79872.72, -74500.95, -73547.96, -67913.48, -69543.39, -64272.52, -61557.074, -57648.637, -56712.426, -58310.242, -55393.24, -56747.95, -60075.92, -53818.21, -55537.71, -51626.508, -57234.605, -52829.145, -52941.766, -55757.367, -52966.004, -52690.19, -50315.566, -52242.43, -50945.473, -52350.754, -49979.1, -51115.41, -50766.637, -49926.625, -51786.926, -50630.016, -53513.668, -52595.76, -51424.71, -50475.79, -52376.914, -49524.53, -49991.133, -50718.324, -49997.555, -50390.84, -50441.953, -50088.34, -51750.363, -49692.76, -49287.625, -49843.55, -49674.223, -50124.156, -49412.703, -50853.504, -49569.305, -49420.42, -49278.926, -48958.516, -48383.31, -48765.9, -48329.24, -49034.42, -48734.207, -49804.24, -49409.29, -49897.1, -49441.99, -48940.234, -48777.816, -48338.7, -48708.438, -48666.387, -49041.53, -49057.312, -49529.81, -48691.695, -48837.285, -48962.83, -48999.97, -48906.76]\n",
      "[-180769.14, -171123.12, -162643.67, -150625.31, -140076.75, -126998.35, -112619.66, -96576.516, -86576.945, -80359.26, -79872.72, -74500.95, -73547.96, -67913.48, -69543.39, -64272.52, -61557.074, -57648.637, -56712.426, -58310.242, -55393.24, -56747.95, -60075.92, -53818.21, -55537.71, -51626.508, -57234.605, -52829.145, -52941.766, -55757.367, -52966.004, -52690.19, -50315.566, -52242.43, -50945.473, -52350.754, -49979.1, -51115.41, -50766.637, -49926.625, -51786.926, -50630.016, -53513.668, -52595.76, -51424.71, -50475.79, -52376.914, -49524.53, -49991.133, -50718.324, -49997.555, -50390.84, -50441.953, -50088.34, -51750.363, -49692.76, -49287.625, -49843.55, -49674.223, -50124.156, -49412.703, -50853.504, -49569.305, -49420.42, -49278.926, -48958.516, -48383.31, -48765.9, -48329.24, -49034.42, -48734.207, -49804.24, -49409.29, -49897.1, -49441.99, -48940.234, -48777.816, -48338.7, -48708.438, -48666.387, -49041.53, -49057.312, -49529.81, -48691.695, -48837.285, -48962.83, -48999.97, -48906.76, -48981.105]\n",
      "[-180769.14, -171123.12, -162643.67, -150625.31, -140076.75, -126998.35, -112619.66, -96576.516, -86576.945, -80359.26, -79872.72, -74500.95, -73547.96, -67913.48, -69543.39, -64272.52, -61557.074, -57648.637, -56712.426, -58310.242, -55393.24, -56747.95, -60075.92, -53818.21, -55537.71, -51626.508, -57234.605, -52829.145, -52941.766, -55757.367, -52966.004, -52690.19, -50315.566, -52242.43, -50945.473, -52350.754, -49979.1, -51115.41, -50766.637, -49926.625, -51786.926, -50630.016, -53513.668, -52595.76, -51424.71, -50475.79, -52376.914, -49524.53, -49991.133, -50718.324, -49997.555, -50390.84, -50441.953, -50088.34, -51750.363, -49692.76, -49287.625, -49843.55, -49674.223, -50124.156, -49412.703, -50853.504, -49569.305, -49420.42, -49278.926, -48958.516, -48383.31, -48765.9, -48329.24, -49034.42, -48734.207, -49804.24, -49409.29, -49897.1, -49441.99, -48940.234, -48777.816, -48338.7, -48708.438, -48666.387, -49041.53, -49057.312, -49529.81, -48691.695, -48837.285, -48962.83, -48999.97, -48906.76, -48981.105, -48377.58]\n",
      "[-180769.14, -171123.12, -162643.67, -150625.31, -140076.75, -126998.35, -112619.66, -96576.516, -86576.945, -80359.26, -79872.72, -74500.95, -73547.96, -67913.48, -69543.39, -64272.52, -61557.074, -57648.637, -56712.426, -58310.242, -55393.24, -56747.95, -60075.92, -53818.21, -55537.71, -51626.508, -57234.605, -52829.145, -52941.766, -55757.367, -52966.004, -52690.19, -50315.566, -52242.43, -50945.473, -52350.754, -49979.1, -51115.41, -50766.637, -49926.625, -51786.926, -50630.016, -53513.668, -52595.76, -51424.71, -50475.79, -52376.914, -49524.53, -49991.133, -50718.324, -49997.555, -50390.84, -50441.953, -50088.34, -51750.363, -49692.76, -49287.625, -49843.55, -49674.223, -50124.156, -49412.703, -50853.504, -49569.305, -49420.42, -49278.926, -48958.516, -48383.31, -48765.9, -48329.24, -49034.42, -48734.207, -49804.24, -49409.29, -49897.1, -49441.99, -48940.234, -48777.816, -48338.7, -48708.438, -48666.387, -49041.53, -49057.312, -49529.81, -48691.695, -48837.285, -48962.83, -48999.97, -48906.76, -48981.105, -48377.58, -49041.98]\n",
      "[-180769.14, -171123.12, -162643.67, -150625.31, -140076.75, -126998.35, -112619.66, -96576.516, -86576.945, -80359.26, -79872.72, -74500.95, -73547.96, -67913.48, -69543.39, -64272.52, -61557.074, -57648.637, -56712.426, -58310.242, -55393.24, -56747.95, -60075.92, -53818.21, -55537.71, -51626.508, -57234.605, -52829.145, -52941.766, -55757.367, -52966.004, -52690.19, -50315.566, -52242.43, -50945.473, -52350.754, -49979.1, -51115.41, -50766.637, -49926.625, -51786.926, -50630.016, -53513.668, -52595.76, -51424.71, -50475.79, -52376.914, -49524.53, -49991.133, -50718.324, -49997.555, -50390.84, -50441.953, -50088.34, -51750.363, -49692.76, -49287.625, -49843.55, -49674.223, -50124.156, -49412.703, -50853.504, -49569.305, -49420.42, -49278.926, -48958.516, -48383.31, -48765.9, -48329.24, -49034.42, -48734.207, -49804.24, -49409.29, -49897.1, -49441.99, -48940.234, -48777.816, -48338.7, -48708.438, -48666.387, -49041.53, -49057.312, -49529.81, -48691.695, -48837.285, -48962.83, -48999.97, -48906.76, -48981.105, -48377.58, -49041.98, -48399.746]\n",
      "[-180769.14, -171123.12, -162643.67, -150625.31, -140076.75, -126998.35, -112619.66, -96576.516, -86576.945, -80359.26, -79872.72, -74500.95, -73547.96, -67913.48, -69543.39, -64272.52, -61557.074, -57648.637, -56712.426, -58310.242, -55393.24, -56747.95, -60075.92, -53818.21, -55537.71, -51626.508, -57234.605, -52829.145, -52941.766, -55757.367, -52966.004, -52690.19, -50315.566, -52242.43, -50945.473, -52350.754, -49979.1, -51115.41, -50766.637, -49926.625, -51786.926, -50630.016, -53513.668, -52595.76, -51424.71, -50475.79, -52376.914, -49524.53, -49991.133, -50718.324, -49997.555, -50390.84, -50441.953, -50088.34, -51750.363, -49692.76, -49287.625, -49843.55, -49674.223, -50124.156, -49412.703, -50853.504, -49569.305, -49420.42, -49278.926, -48958.516, -48383.31, -48765.9, -48329.24, -49034.42, -48734.207, -49804.24, -49409.29, -49897.1, -49441.99, -48940.234, -48777.816, -48338.7, -48708.438, -48666.387, -49041.53, -49057.312, -49529.81, -48691.695, -48837.285, -48962.83, -48999.97, -48906.76, -48981.105, -48377.58, -49041.98, -48399.746, -48965.723]\n"
     ]
    },
    {
     "name": "stdout",
     "output_type": "stream",
     "text": [
      "[-180769.14, -171123.12, -162643.67, -150625.31, -140076.75, -126998.35, -112619.66, -96576.516, -86576.945, -80359.26, -79872.72, -74500.95, -73547.96, -67913.48, -69543.39, -64272.52, -61557.074, -57648.637, -56712.426, -58310.242, -55393.24, -56747.95, -60075.92, -53818.21, -55537.71, -51626.508, -57234.605, -52829.145, -52941.766, -55757.367, -52966.004, -52690.19, -50315.566, -52242.43, -50945.473, -52350.754, -49979.1, -51115.41, -50766.637, -49926.625, -51786.926, -50630.016, -53513.668, -52595.76, -51424.71, -50475.79, -52376.914, -49524.53, -49991.133, -50718.324, -49997.555, -50390.84, -50441.953, -50088.34, -51750.363, -49692.76, -49287.625, -49843.55, -49674.223, -50124.156, -49412.703, -50853.504, -49569.305, -49420.42, -49278.926, -48958.516, -48383.31, -48765.9, -48329.24, -49034.42, -48734.207, -49804.24, -49409.29, -49897.1, -49441.99, -48940.234, -48777.816, -48338.7, -48708.438, -48666.387, -49041.53, -49057.312, -49529.81, -48691.695, -48837.285, -48962.83, -48999.97, -48906.76, -48981.105, -48377.58, -49041.98, -48399.746, -48965.723, -48931.094]\n",
      "[-180769.14, -171123.12, -162643.67, -150625.31, -140076.75, -126998.35, -112619.66, -96576.516, -86576.945, -80359.26, -79872.72, -74500.95, -73547.96, -67913.48, -69543.39, -64272.52, -61557.074, -57648.637, -56712.426, -58310.242, -55393.24, -56747.95, -60075.92, -53818.21, -55537.71, -51626.508, -57234.605, -52829.145, -52941.766, -55757.367, -52966.004, -52690.19, -50315.566, -52242.43, -50945.473, -52350.754, -49979.1, -51115.41, -50766.637, -49926.625, -51786.926, -50630.016, -53513.668, -52595.76, -51424.71, -50475.79, -52376.914, -49524.53, -49991.133, -50718.324, -49997.555, -50390.84, -50441.953, -50088.34, -51750.363, -49692.76, -49287.625, -49843.55, -49674.223, -50124.156, -49412.703, -50853.504, -49569.305, -49420.42, -49278.926, -48958.516, -48383.31, -48765.9, -48329.24, -49034.42, -48734.207, -49804.24, -49409.29, -49897.1, -49441.99, -48940.234, -48777.816, -48338.7, -48708.438, -48666.387, -49041.53, -49057.312, -49529.81, -48691.695, -48837.285, -48962.83, -48999.97, -48906.76, -48981.105, -48377.58, -49041.98, -48399.746, -48965.723, -48931.094, -48695.426]\n",
      "[-180769.14, -171123.12, -162643.67, -150625.31, -140076.75, -126998.35, -112619.66, -96576.516, -86576.945, -80359.26, -79872.72, -74500.95, -73547.96, -67913.48, -69543.39, -64272.52, -61557.074, -57648.637, -56712.426, -58310.242, -55393.24, -56747.95, -60075.92, -53818.21, -55537.71, -51626.508, -57234.605, -52829.145, -52941.766, -55757.367, -52966.004, -52690.19, -50315.566, -52242.43, -50945.473, -52350.754, -49979.1, -51115.41, -50766.637, -49926.625, -51786.926, -50630.016, -53513.668, -52595.76, -51424.71, -50475.79, -52376.914, -49524.53, -49991.133, -50718.324, -49997.555, -50390.84, -50441.953, -50088.34, -51750.363, -49692.76, -49287.625, -49843.55, -49674.223, -50124.156, -49412.703, -50853.504, -49569.305, -49420.42, -49278.926, -48958.516, -48383.31, -48765.9, -48329.24, -49034.42, -48734.207, -49804.24, -49409.29, -49897.1, -49441.99, -48940.234, -48777.816, -48338.7, -48708.438, -48666.387, -49041.53, -49057.312, -49529.81, -48691.695, -48837.285, -48962.83, -48999.97, -48906.76, -48981.105, -48377.58, -49041.98, -48399.746, -48965.723, -48931.094, -48695.426, -48651.156]\n",
      "[-180769.14, -171123.12, -162643.67, -150625.31, -140076.75, -126998.35, -112619.66, -96576.516, -86576.945, -80359.26, -79872.72, -74500.95, -73547.96, -67913.48, -69543.39, -64272.52, -61557.074, -57648.637, -56712.426, -58310.242, -55393.24, -56747.95, -60075.92, -53818.21, -55537.71, -51626.508, -57234.605, -52829.145, -52941.766, -55757.367, -52966.004, -52690.19, -50315.566, -52242.43, -50945.473, -52350.754, -49979.1, -51115.41, -50766.637, -49926.625, -51786.926, -50630.016, -53513.668, -52595.76, -51424.71, -50475.79, -52376.914, -49524.53, -49991.133, -50718.324, -49997.555, -50390.84, -50441.953, -50088.34, -51750.363, -49692.76, -49287.625, -49843.55, -49674.223, -50124.156, -49412.703, -50853.504, -49569.305, -49420.42, -49278.926, -48958.516, -48383.31, -48765.9, -48329.24, -49034.42, -48734.207, -49804.24, -49409.29, -49897.1, -49441.99, -48940.234, -48777.816, -48338.7, -48708.438, -48666.387, -49041.53, -49057.312, -49529.81, -48691.695, -48837.285, -48962.83, -48999.97, -48906.76, -48981.105, -48377.58, -49041.98, -48399.746, -48965.723, -48931.094, -48695.426, -48651.156, -47753.78]\n",
      "[-180769.14, -171123.12, -162643.67, -150625.31, -140076.75, -126998.35, -112619.66, -96576.516, -86576.945, -80359.26, -79872.72, -74500.95, -73547.96, -67913.48, -69543.39, -64272.52, -61557.074, -57648.637, -56712.426, -58310.242, -55393.24, -56747.95, -60075.92, -53818.21, -55537.71, -51626.508, -57234.605, -52829.145, -52941.766, -55757.367, -52966.004, -52690.19, -50315.566, -52242.43, -50945.473, -52350.754, -49979.1, -51115.41, -50766.637, -49926.625, -51786.926, -50630.016, -53513.668, -52595.76, -51424.71, -50475.79, -52376.914, -49524.53, -49991.133, -50718.324, -49997.555, -50390.84, -50441.953, -50088.34, -51750.363, -49692.76, -49287.625, -49843.55, -49674.223, -50124.156, -49412.703, -50853.504, -49569.305, -49420.42, -49278.926, -48958.516, -48383.31, -48765.9, -48329.24, -49034.42, -48734.207, -49804.24, -49409.29, -49897.1, -49441.99, -48940.234, -48777.816, -48338.7, -48708.438, -48666.387, -49041.53, -49057.312, -49529.81, -48691.695, -48837.285, -48962.83, -48999.97, -48906.76, -48981.105, -48377.58, -49041.98, -48399.746, -48965.723, -48931.094, -48695.426, -48651.156, -47753.78, -48933.383]\n",
      "[-180769.14, -171123.12, -162643.67, -150625.31, -140076.75, -126998.35, -112619.66, -96576.516, -86576.945, -80359.26, -79872.72, -74500.95, -73547.96, -67913.48, -69543.39, -64272.52, -61557.074, -57648.637, -56712.426, -58310.242, -55393.24, -56747.95, -60075.92, -53818.21, -55537.71, -51626.508, -57234.605, -52829.145, -52941.766, -55757.367, -52966.004, -52690.19, -50315.566, -52242.43, -50945.473, -52350.754, -49979.1, -51115.41, -50766.637, -49926.625, -51786.926, -50630.016, -53513.668, -52595.76, -51424.71, -50475.79, -52376.914, -49524.53, -49991.133, -50718.324, -49997.555, -50390.84, -50441.953, -50088.34, -51750.363, -49692.76, -49287.625, -49843.55, -49674.223, -50124.156, -49412.703, -50853.504, -49569.305, -49420.42, -49278.926, -48958.516, -48383.31, -48765.9, -48329.24, -49034.42, -48734.207, -49804.24, -49409.29, -49897.1, -49441.99, -48940.234, -48777.816, -48338.7, -48708.438, -48666.387, -49041.53, -49057.312, -49529.81, -48691.695, -48837.285, -48962.83, -48999.97, -48906.76, -48981.105, -48377.58, -49041.98, -48399.746, -48965.723, -48931.094, -48695.426, -48651.156, -47753.78, -48933.383, -48720.887]\n",
      "[-180769.14, -171123.12, -162643.67, -150625.31, -140076.75, -126998.35, -112619.66, -96576.516, -86576.945, -80359.26, -79872.72, -74500.95, -73547.96, -67913.48, -69543.39, -64272.52, -61557.074, -57648.637, -56712.426, -58310.242, -55393.24, -56747.95, -60075.92, -53818.21, -55537.71, -51626.508, -57234.605, -52829.145, -52941.766, -55757.367, -52966.004, -52690.19, -50315.566, -52242.43, -50945.473, -52350.754, -49979.1, -51115.41, -50766.637, -49926.625, -51786.926, -50630.016, -53513.668, -52595.76, -51424.71, -50475.79, -52376.914, -49524.53, -49991.133, -50718.324, -49997.555, -50390.84, -50441.953, -50088.34, -51750.363, -49692.76, -49287.625, -49843.55, -49674.223, -50124.156, -49412.703, -50853.504, -49569.305, -49420.42, -49278.926, -48958.516, -48383.31, -48765.9, -48329.24, -49034.42, -48734.207, -49804.24, -49409.29, -49897.1, -49441.99, -48940.234, -48777.816, -48338.7, -48708.438, -48666.387, -49041.53, -49057.312, -49529.81, -48691.695, -48837.285, -48962.83, -48999.97, -48906.76, -48981.105, -48377.58, -49041.98, -48399.746, -48965.723, -48931.094, -48695.426, -48651.156, -47753.78, -48933.383, -48720.887, -48797.742]\n"
     ]
    }
   ],
   "source": [
    "num2=10\n",
    "y=[]\n",
    "results=[]\n",
    "final=we\n",
    "generations=100\n",
    "for iter in range(generations):\n",
    "    for i in range(we.shape[1]):\n",
    "        tte=we[:,i]\n",
    "        y.append(-optfunc(tte[:,np.newaxis]))\n",
    "    results.append(np.mean(y[-20:-1]))\n",
    "    print(results)\n",
    "    # fitness=y\n",
    "    parents=select_mating_pool(final,y,10)\n",
    "    offspring_size=[36,20]\n",
    "    offspring=crossover(parents, offspring_size)\n",
    "    we=mutation(offspring)\n",
    "    final=np.append(final,we,axis=1)\n",
    "#     final.append(we)\n",
    "# parents.shape"
   ]
  },
  {
   "cell_type": "code",
   "execution_count": 113,
   "metadata": {},
   "outputs": [
    {
     "data": {
      "image/png": "[encoded data removed]",
      "text/plain": [
       "<matplotlib.figure.Figure at 0x7f9da83560f0>"
      ]
     },
     "metadata": {
      "needs_background": "light"
     },
     "output_type": "display_data"
    }
   ],
   "source": [
    "plt.plot(-np.array(results))\n",
    "plt.savefig('matching_error.svg',bbox_inches='tight',dpi=300)"
   ]
  },
  {
   "cell_type": "code",
   "execution_count": 116,
   "metadata": {},
   "outputs": [
    {
     "name": "stdout",
     "output_type": "stream",
     "text": [
      "Iteration: 0\n",
      "Predicted class: 3, score:  38.40%\n",
      "Gradient min: -0.011962, max:  0.004475, stepsize:    380.01\n",
      "Loss: -0.9024338\n",
      "\n",
      "Iteration: 1\n",
      "Predicted class: 2, score:  97.64%\n",
      "Gradient min: -0.010807, max:  0.005313, stepsize:    372.10\n",
      "Loss: -0.2508577\n",
      "\n",
      "Iteration: 2\n",
      "Predicted class: 2, score:  80.85%\n",
      "Gradient min: -0.012497, max:  0.004235, stepsize:    371.85\n",
      "Loss: -0.041272465\n",
      "\n",
      "Iteration: 3\n",
      "Predicted class: 2, score:  94.34%\n",
      "Gradient min: -0.010722, max:  0.004706, stepsize:    370.42\n",
      "Loss: -0.06925687\n",
      "\n",
      "Iteration: 4\n",
      "Predicted class: 2, score:  92.24%\n",
      "Gradient min: -0.012421, max:  0.005291, stepsize:    362.42\n",
      "Loss: -0.09019166\n",
      "\n",
      "Iteration: 5\n",
      "Predicted class: 2, score:  98.97%\n",
      "Gradient min: -0.010623, max:  0.006286, stepsize:    374.16\n",
      "Loss: -0.108166814\n",
      "\n",
      "Iteration: 6\n",
      "Predicted class: 2, score:  85.50%\n",
      "Gradient min: -0.010868, max:  0.006074, stepsize:    381.91\n",
      "Loss: -0.10874013\n",
      "\n",
      "Iteration: 7\n",
      "Predicted class: 2, score:  98.76%\n",
      "Gradient min: -0.012529, max:  0.006711, stepsize:    368.43\n",
      "Loss: -0.071861446\n",
      "\n",
      "Iteration: 8\n",
      "Predicted class: 2, score:  81.98%\n",
      "Gradient min: -0.011268, max:  0.006637, stepsize:    380.94\n",
      "Loss: -0.096633084\n",
      "\n",
      "Iteration: 9\n",
      "Predicted class: 2, score:  99.14%\n",
      "Gradient min: -0.010508, max:  0.005618, stepsize:    362.55\n",
      "Loss: -0.079692796\n",
      "\n",
      "Iteration: 10\n",
      "Predicted class: 2, score:  74.13%\n",
      "Gradient min: -0.011021, max:  0.006592, stepsize:    378.65\n",
      "Loss: -0.10910507\n",
      "\n",
      "Iteration: 11\n",
      "Predicted class: 2, score:  98.40%\n",
      "Gradient min: -0.011737, max:  0.006057, stepsize:    380.57\n",
      "Loss: -0.07889497\n",
      "\n",
      "Iteration: 12\n",
      "Predicted class: 2, score:  57.46%\n",
      "Gradient min: -0.010965, max:  0.006502, stepsize:    371.84\n",
      "Loss: -0.10819422\n",
      "\n",
      "Iteration: 13\n",
      "Predicted class: 2, score:  97.62%\n",
      "Gradient min: -0.010566, max:  0.007341, stepsize:    367.72\n",
      "Loss: -0.10921563\n",
      "\n",
      "Iteration: 14\n",
      "Predicted class: 2, score:  77.21%\n",
      "Gradient min: -0.010820, max:  0.005602, stepsize:    370.93\n",
      "Loss: -0.1065171\n",
      "\n",
      "Iteration: 15\n",
      "Predicted class: 2, score:  76.65%\n",
      "Gradient min: -0.009814, max:  0.008545, stepsize:    361.56\n",
      "Loss: -0.11174225\n",
      "\n",
      "Iteration: 16\n",
      "Predicted class: 2, score:  49.42%\n",
      "Gradient min: -0.009388, max:  0.005993, stepsize:    365.58\n",
      "Loss: -0.13134472\n",
      "\n",
      "Iteration: 17\n",
      "Predicted class: 2, score:  96.01%\n",
      "Gradient min: -0.009970, max:  0.005210, stepsize:    366.14\n",
      "Loss: -0.13085502\n",
      "\n",
      "Iteration: 18\n",
      "Predicted class: 5, score:  85.84%\n",
      "Gradient min: -0.010669, max:  0.006169, stepsize:    367.29\n",
      "Loss: -0.13900489\n",
      "\n",
      "Iteration: 19\n",
      "Predicted class: 2, score:  95.06%\n",
      "Gradient min: -0.011563, max:  0.006223, stepsize:    362.38\n",
      "Loss: -0.12735632\n",
      "\n",
      "Iteration: 20\n",
      "Predicted class: 2, score:  50.34%\n",
      "Gradient min: -0.010269, max:  0.005870, stepsize:    362.52\n",
      "Loss: -0.1523401\n",
      "\n",
      "Iteration: 21\n",
      "Predicted class: 2, score:  98.87%\n",
      "Gradient min: -0.010149, max:  0.007213, stepsize:    365.42\n",
      "Loss: -0.13592604\n",
      "\n",
      "Iteration: 22\n",
      "Predicted class: 2, score:  96.06%\n",
      "Gradient min: -0.010170, max:  0.005892, stepsize:    363.26\n",
      "Loss: -0.13032664\n",
      "\n",
      "Iteration: 23\n",
      "Predicted class: 2, score:  97.33%\n",
      "Gradient min: -0.010907, max:  0.007458, stepsize:    367.03\n",
      "Loss: -0.115807734\n",
      "\n",
      "Iteration: 24\n",
      "Predicted class: 2, score:  77.59%\n",
      "Gradient min: -0.011411, max:  0.007241, stepsize:    355.25\n",
      "Loss: -0.11980041\n",
      "\n",
      "Iteration: 25\n",
      "Predicted class: 2, score:  95.98%\n",
      "Gradient min: -0.010053, max:  0.005495, stepsize:    376.28\n",
      "Loss: -0.10704829\n",
      "\n",
      "Iteration: 26\n",
      "Predicted class: 2, score:  88.27%\n",
      "Gradient min: -0.011543, max:  0.006890, stepsize:    362.05\n",
      "Loss: -0.11663751\n",
      "\n",
      "Iteration: 27\n",
      "Predicted class: 2, score:  99.16%\n",
      "Gradient min: -0.010740, max:  0.006710, stepsize:    367.61\n",
      "Loss: -0.100018114\n",
      "\n",
      "Iteration: 28\n",
      "Predicted class: 2, score:  98.37%\n",
      "Gradient min: -0.010001, max:  0.006746, stepsize:    367.63\n",
      "Loss: -0.124398746\n",
      "\n",
      "Iteration: 29\n",
      "Predicted class: 2, score:  97.28%\n",
      "Gradient min: -0.010033, max:  0.005334, stepsize:    375.69\n",
      "Loss: -0.10948079\n",
      "\n"
     ]
    }
   ],
   "source": [
    "image = optimize_image(conv_id=1, feature=32,\n",
    "                               show_progress=True,\n",
    "                               num_iterations=30,weight=np.mean(we,1)[:,np.newaxis])\n",
    "\n",
    "# y"
   ]
  },
  {
   "cell_type": "code",
   "execution_count": 117,
   "metadata": {},
   "outputs": [
    {
     "data": {
      "text/plain": [
       "<matplotlib.image.AxesImage at 0x7f9da812bdd8>"
      ]
     },
     "execution_count": 117,
     "metadata": {},
     "output_type": "execute_result"
    },
    {
     "data": {
      "image/png": "[encoded data removed]",
      "text/plain": [
       "<matplotlib.figure.Figure at 0x7f9da819c668>"
      ]
     },
     "metadata": {
      "needs_background": "light"
     },
     "output_type": "display_data"
    }
   ],
   "source": [
    "# kernel = C(1.0, (1e-3, 1e3)) * RBF(10, (1e-2, 1e2))\n",
    "# gp = GaussianProcessRegressor(kernel=kernel, n_restarts_optimizer=9)\n",
    "\n",
    "# # Fit to data using Maximum Likelihood Estimation of the parameters\n",
    "# gp.fit(we.T, y)\n",
    "\n",
    "# Make the prediction on the meshed x-axis (ask for MSE as well)\n",
    "# y_pred, sigma = gp.predict(x, return_std=True)\n",
    "plt.imshow(image)"
   ]
  },
  {
   "cell_type": "code",
   "execution_count": 44,
   "metadata": {},
   "outputs": [],
   "source": [
    "# # y_pred, sigma = gp.predict(x, return_std=True)\n",
    "# x=np.random.uniform(0,1,(1,36))\n",
    "# tt=np.sum(x,axis=0)\n",
    "# # np.sum(s/tt,axis=0)\n",
    "# x=x/tt\n",
    "# y_pred, sigma = gp.predict(x, return_std=True)"
   ]
  },
  {
   "cell_type": "code",
   "execution_count": 45,
   "metadata": {},
   "outputs": [
    {
     "data": {
      "text/plain": [
       "array([1.4063268e-120])"
      ]
     },
     "execution_count": 45,
     "metadata": {},
     "output_type": "execute_result"
    }
   ],
   "source": [
    "# y_pred"
   ]
  },
  {
   "cell_type": "code",
   "execution_count": null,
   "metadata": {},
   "outputs": [],
   "source": []
  }
 ],
 "metadata": {
  "kernelspec": {
   "display_name": "Python 3",
   "language": "python",
   "name": "python3"
  },
  "language_info": {
   "codemirror_mode": {
    "name": "ipython",
    "version": 3
   },
   "file_extension": ".py",
   "mimetype": "text/x-python",
   "name": "python",
   "nbconvert_exporter": "python",
   "pygments_lexer": "ipython3",
   "version": "3.6.7"
  }
 },
 "nbformat": 4,
 "nbformat_minor": 2
}
